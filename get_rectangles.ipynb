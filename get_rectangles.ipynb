{
 "cells": [
  {
   "cell_type": "code",
   "execution_count": 1,
   "metadata": {},
   "outputs": [],
   "source": [
    "import cv2\n",
    "import json\n",
    "import os\n",
    "import mediapipe as mp\n",
    "import pandas as pd\n",
    "import numpy as np"
   ]
  },
  {
   "cell_type": "code",
   "execution_count": 9,
   "metadata": {},
   "outputs": [],
   "source": [
    "from tqdm import tqdm"
   ]
  },
  {
   "cell_type": "code",
   "execution_count": 2,
   "metadata": {},
   "outputs": [],
   "source": [
    "directory = 'D:\\\\ML\\\\Attention-focus-detection-daniyar\\\\data\\\\maxim\\\\'"
   ]
  },
  {
   "cell_type": "code",
   "execution_count": 3,
   "metadata": {},
   "outputs": [],
   "source": [
    "mypath = 'D:\\\\ML\\\\Attention-focus-detection-daniyar\\\\data\\\\maxim\\\\json nt.json'\n",
    "myjson = open(mypath, \"r\").read()\n",
    "json_details = json.loads(myjson)\n",
    "#myjson.close()"
   ]
  },
  {
   "cell_type": "code",
   "execution_count": 27,
   "metadata": {},
   "outputs": [],
   "source": [
    "#json_details['_via_img_metadata']['105524417.jpeg1111088']['regions'][0]['shape_attributes']['x']\n",
    "#list(json_details['_via_img_metadata'].keys())"
   ]
  },
  {
   "cell_type": "code",
   "execution_count": 28,
   "metadata": {},
   "outputs": [],
   "source": [
    "#json_details['_via_img_metadata']['105524417.jpeg1111088']['regions'][0]['shape_attributes']['x']"
   ]
  },
  {
   "cell_type": "code",
   "execution_count": 1,
   "metadata": {},
   "outputs": [
    {
     "ename": "NameError",
     "evalue": "name 'json_details' is not defined",
     "output_type": "error",
     "traceback": [
      "\u001b[1;31m---------------------------------------------------------------------------\u001b[0m",
      "\u001b[1;31mNameError\u001b[0m                                 Traceback (most recent call last)",
      "Cell \u001b[1;32mIn[1], line 2\u001b[0m\n\u001b[0;32m      1\u001b[0m dict_faces \u001b[38;5;241m=\u001b[39m {}\n\u001b[1;32m----> 2\u001b[0m \u001b[38;5;28;01mfor\u001b[39;00m f \u001b[38;5;129;01min\u001b[39;00m \u001b[38;5;28mlist\u001b[39m(\u001b[43mjson_details\u001b[49m[\u001b[38;5;124m'\u001b[39m\u001b[38;5;124m_via_img_metadata\u001b[39m\u001b[38;5;124m'\u001b[39m]\u001b[38;5;241m.\u001b[39mvalues()):\n\u001b[0;32m      3\u001b[0m     \u001b[38;5;66;03m#print(f['filename'])\u001b[39;00m\n\u001b[0;32m      4\u001b[0m     temp_list \u001b[38;5;241m=\u001b[39m []\n\u001b[0;32m      5\u001b[0m     \u001b[38;5;28;01mfor\u001b[39;00m region \u001b[38;5;129;01min\u001b[39;00m f[\u001b[38;5;124m'\u001b[39m\u001b[38;5;124mregions\u001b[39m\u001b[38;5;124m'\u001b[39m]:\n\u001b[0;32m      6\u001b[0m     \u001b[38;5;66;03m#    print(region['shape_attributes']['x'])\u001b[39;00m\n\u001b[0;32m      7\u001b[0m     \u001b[38;5;66;03m#    print(region['shape_attributes']['y'])\u001b[39;00m\n\u001b[0;32m      8\u001b[0m     \u001b[38;5;66;03m#    print(region['shape_attributes']['width'])\u001b[39;00m\n\u001b[0;32m      9\u001b[0m     \u001b[38;5;66;03m#    print(region['shape_attributes']['height'])\u001b[39;00m\n",
      "\u001b[1;31mNameError\u001b[0m: name 'json_details' is not defined"
     ]
    }
   ],
   "source": [
    "dict_faces = {}\n",
    "#Создается пустой словарь, который будет содержать данные о лицах на изображениях.\n",
    "for f in list(json_details['_via_img_metadata'].values()):\n",
    "    temp_list = []\n",
    "    for region in f['regions']:      \n",
    "        temp_list.append({'x':int(region['shape_attributes']['x']),\n",
    "                                    'y':int(region['shape_attributes']['y']),\n",
    "                                    'width':int(region['shape_attributes']['width']),\n",
    "                                    'height':int(region['shape_attributes']['height'])\n",
    "                                    })\n",
    "    dict_faces[f['filename']] = temp_list\n",
    "dict_faces"
   ]
  },
  {
   "cell_type": "code",
   "execution_count": 5,
   "metadata": {},
   "outputs": [
    {
     "data": {
      "text/plain": [
       "['5a394610b890d909156903.jpg725848',\n",
       " 'scale_1200.jpeg238970',\n",
       " 'e863687674f78533a62fd51266d3be90.jpg325006',\n",
       " '1597801.jpg865733',\n",
       " 'ria_2712484hr_63c.jpg1347523',\n",
       " '1673735365_pro-dachnikov-com-p-foto-za-partoi-v-univere-22.jpg199592',\n",
       " '44218203881_968f50a0ff_k.jpg954326',\n",
       " '1-1-1.jpg234474',\n",
       " '28_n1976129_big.jpg439807',\n",
       " 'scale_1200 (1).png969032',\n",
       " 'G8CiTZAxMMg.jpg210209',\n",
       " '6307797c6e48fe5cb01f2b3d7726f839.jpeg582293',\n",
       " 'Nuzhno-li-xodit-na-lekcii.jpg98631',\n",
       " 'img_3475_2b_2.jpg303401',\n",
       " '1559569135_8N5B8535.jpg1595991',\n",
       " 'С…С…С….jpg1965171',\n",
       " '4yg895CH6II.jpg182228',\n",
       " '1673735382_pro-dachnikov-com-p-foto-za-partoi-v-univere-4.jpg140537',\n",
       " '1673971580_pro-dachnikov-com-p-studenti-za-partami-foto-60.jpg240110',\n",
       " 'foto._2.iz.6_.jpg110430',\n",
       " '6389af16039c6663274986.jpg306704',\n",
       " 'photo_002.jpg232856',\n",
       " 'studenty-na-lekczii-1-scaled.jpg424346',\n",
       " '1683640998_kartinkof-club-p-kartinki-lektsii-37.jpg2483632',\n",
       " 'e407d64acb0ec1530efb97fb6b8d3b19.jpg158097',\n",
       " '2002461.jpg132211',\n",
       " 'Zn0R0T54qLU.jpg115581',\n",
       " 'original.jpg146875',\n",
       " 'scale_1200.png832162',\n",
       " '84cf8286-e2a4-5881-a1ae-439ef9579842.jpeg150172']"
      ]
     },
     "execution_count": 5,
     "metadata": {},
     "output_type": "execute_result"
    }
   ],
   "source": [
    "list(json_details['_via_img_metadata'].keys())"
   ]
  },
  {
   "cell_type": "code",
   "execution_count": 8,
   "metadata": {},
   "outputs": [
    {
     "data": {
      "text/plain": [
       "\"for file in os.listdir(directory):\\n    if file.split('.')[-1] == 'jpg':\\n        st_photo = cv2.imread(directory + '\\\\' + file, 1)\\n        #dict_faces[file]['x']\\n        for face_rectangle in dict_faces[file]:\\n            cv2.rectangle(st_photo, \\n                        (face_rectangle['x'], face_rectangle['y']), \\n                        (face_rectangle['x'] + face_rectangle['width'], face_rectangle['y'] + face_rectangle['height']),\\n                        (0, 0, 255), \\n                        3)\\n        cv2.imshow(file, st_photo)\\n        cv2.waitKey(0)\\n        cv2.destroyAllWindows()\""
      ]
     },
     "execution_count": 8,
     "metadata": {},
     "output_type": "execute_result"
    }
   ],
   "source": [
    "\"\"\"for file in os.listdir(directory):\n",
    "    if file.split('.')[-1] == 'jpg':\n",
    "        st_photo = cv2.imread(directory + '\\\\' + file, 1)\n",
    "        #dict_faces[file]['x']\n",
    "        for face_rectangle in dict_faces[file]:\n",
    "            cv2.rectangle(st_photo, \n",
    "                        (face_rectangle['x'], face_rectangle['y']), \n",
    "                        (face_rectangle['x'] + face_rectangle['width'], face_rectangle['y'] + face_rectangle['height']),\n",
    "                        (0, 0, 255), \n",
    "                        3)\n",
    "        cv2.imshow(file, st_photo)\n",
    "        cv2.waitKey(0)\n",
    "        cv2.destroyAllWindows()\"\"\""
   ]
  },
  {
   "cell_type": "markdown",
   "metadata": {},
   "source": [
    "## КОД ДЛЯ РАЗМЕТКИ \"есть фокус/нет фокуса\""
   ]
  },
  {
   "cell_type": "code",
   "execution_count": 7,
   "metadata": {},
   "outputs": [
    {
     "ename": "KeyError",
     "evalue": "'ххх.jpg'",
     "output_type": "error",
     "traceback": [
      "\u001b[1;31m---------------------------------------------------------------------------\u001b[0m",
      "\u001b[1;31mKeyError\u001b[0m                                  Traceback (most recent call last)",
      "Cell \u001b[1;32mIn[7], line 8\u001b[0m\n\u001b[0;32m      6\u001b[0m file_counter \u001b[38;5;241m+\u001b[39m\u001b[38;5;241m=\u001b[39m \u001b[38;5;241m1\u001b[39m\n\u001b[0;32m      7\u001b[0m face_counter \u001b[38;5;241m=\u001b[39m \u001b[38;5;241m0\u001b[39m\n\u001b[1;32m----> 8\u001b[0m \u001b[38;5;28;01mfor\u001b[39;00m face_rectangle \u001b[38;5;129;01min\u001b[39;00m \u001b[43mdict_faces\u001b[49m\u001b[43m[\u001b[49m\u001b[43mfile\u001b[49m\u001b[43m]\u001b[49m:\n\u001b[0;32m      9\u001b[0m     \u001b[38;5;66;03m#(face_rectangle['x'], face_rectangle['y']), \u001b[39;00m\n\u001b[0;32m     10\u001b[0m     \u001b[38;5;66;03m#face_rectangle['x'] + face_rectangle['width'], face_rectangle['y'] + face_rectangle['height'])\u001b[39;00m\n\u001b[0;32m     11\u001b[0m     st_face \u001b[38;5;241m=\u001b[39m st_photo[face_rectangle[\u001b[38;5;124m'\u001b[39m\u001b[38;5;124my\u001b[39m\u001b[38;5;124m'\u001b[39m]:face_rectangle[\u001b[38;5;124m'\u001b[39m\u001b[38;5;124my\u001b[39m\u001b[38;5;124m'\u001b[39m] \u001b[38;5;241m+\u001b[39m face_rectangle[\u001b[38;5;124m'\u001b[39m\u001b[38;5;124mheight\u001b[39m\u001b[38;5;124m'\u001b[39m], face_rectangle[\u001b[38;5;124m'\u001b[39m\u001b[38;5;124mx\u001b[39m\u001b[38;5;124m'\u001b[39m]:face_rectangle[\u001b[38;5;124m'\u001b[39m\u001b[38;5;124mx\u001b[39m\u001b[38;5;124m'\u001b[39m] \u001b[38;5;241m+\u001b[39m face_rectangle[\u001b[38;5;124m'\u001b[39m\u001b[38;5;124mwidth\u001b[39m\u001b[38;5;124m'\u001b[39m],:]\n\u001b[0;32m     12\u001b[0m     cv2\u001b[38;5;241m.\u001b[39mimshow(file \u001b[38;5;241m+\u001b[39m \u001b[38;5;124m'\u001b[39m\u001b[38;5;124m \u001b[39m\u001b[38;5;124m'\u001b[39m \u001b[38;5;241m+\u001b[39m \u001b[38;5;28mstr\u001b[39m(face_counter), st_face)\n",
      "\u001b[1;31mKeyError\u001b[0m: 'ххх.jpg'"
     ]
    }
   ],
   "source": [
    "file_counter = 0\n",
    "for file in os.listdir(directory):\n",
    "    if file.split('.')[-1] == 'jpg':\n",
    "        st_photo = cv2.imread(directory + '\\\\' + file, 1)\n",
    "        #dict_faces[file]['x']\n",
    "        file_counter += 1\n",
    "        face_counter = 0\n",
    "        for face_rectangle in dict_faces[file]:\n",
    "            #(face_rectangle['x'], face_rectangle['y']), \n",
    "            #face_rectangle['x'] + face_rectangle['width'], face_rectangle['y'] + face_rectangle['height'])\n",
    "            st_face = st_photo[face_rectangle['y']:face_rectangle['y'] + face_rectangle['height'], face_rectangle['x']:face_rectangle['x'] + face_rectangle['width'],:]\n",
    "            cv2.imshow(file + ' ' + str(face_counter), st_face)\n",
    "            face_counter += 1\n",
    "            key = cv2.waitKey(0)\n",
    "            if key == 48:\n",
    "                path_0 = 'D:\\\\ML\\\\Attention-focus-detection\\\\data\\\\0\\\\'\n",
    "                cv2.imwrite('D:\\\\ML\\\\Attention-focus-detection\\\\data\\\\0\\\\' + file.split('.')[0] + '_' + str(face_counter) + '.jpg', st_face)\n",
    "            elif key == 49:\n",
    "                path_1 = 'D:\\\\ML\\\\Attention-focus-detection\\\\data\\\\1\\\\'\n",
    "                cv2.imwrite('D:\\\\ML\\\\Attention-focus-detection\\\\data\\\\1\\\\' + file.split('.')[0] + '_' + str(face_counter) + '.jpg', st_face)\n",
    "            cv2.destroyAllWindows()\n",
    "        #if file_counter >= 2:\n",
    "        #    break"
   ]
  },
  {
   "cell_type": "markdown",
   "metadata": {},
   "source": [
    "## КОД для обработки через mediapipe"
   ]
  },
  {
   "cell_type": "code",
   "execution_count": 3,
   "metadata": {},
   "outputs": [],
   "source": [
    "path_0 = 'D:\\\\ML\\\\Attention-focus-detection-daniyar\\\\data\\\\0\\\\'\n",
    "path_1 = 'D:\\\\ML\\\\Attention-focus-detection-daniyar\\\\data\\\\1\\\\'"
   ]
  },
  {
   "cell_type": "code",
   "execution_count": 5,
   "metadata": {},
   "outputs": [],
   "source": [
    "mp_face_mesh = mp.solutions.face_mesh\n",
    "face_mesh = mp_face_mesh.FaceMesh(\n",
    "        max_num_faces=1,\n",
    "        refine_landmarks=True,\n",
    "        min_detection_confidence=0.5) "
   ]
  },
  {
   "cell_type": "code",
   "execution_count": 6,
   "metadata": {},
   "outputs": [],
   "source": [
    "mp_drawing = mp.solutions.drawing_utils\n",
    "mp_drawing_styles = mp.solutions.drawing_styles"
   ]
  },
  {
   "cell_type": "code",
   "execution_count": 7,
   "metadata": {},
   "outputs": [
    {
     "data": {
      "text/plain": [
       "['1-1-1_1.jpg',\n",
       " '1-1-1_2.jpg',\n",
       " '1-1-1_3.jpg',\n",
       " '1-1-1_4.jpg',\n",
       " '1-1-1_5.jpg',\n",
       " '1-1-1_6.jpg',\n",
       " '1-1-1_7.jpg',\n",
       " '1-1-1_8.jpg',\n",
       " '1-1-1_9.jpg',\n",
       " '1559569135_8N5B8535_2.jpg',\n",
       " '1559569135_8N5B8535_3.jpg',\n",
       " '1597801_1.jpg',\n",
       " '1597801_10.jpg',\n",
       " '1597801_11.jpg',\n",
       " '1597801_14.jpg',\n",
       " '1597801_15.jpg',\n",
       " '1597801_16.jpg',\n",
       " '1597801_17.jpg',\n",
       " '1597801_2.jpg',\n",
       " '1597801_20.jpg',\n",
       " '1597801_21.jpg',\n",
       " '1597801_22.jpg',\n",
       " '1597801_23.jpg',\n",
       " '1597801_24.jpg',\n",
       " '1597801_25.jpg',\n",
       " '1597801_3.jpg',\n",
       " '1597801_5.jpg',\n",
       " '1597801_6.jpg',\n",
       " '1597801_8.jpg',\n",
       " '1597801_9.jpg',\n",
       " '1673735365_pro-dachnikov-com-p-foto-za-partoi-v-univere-22_1.jpg',\n",
       " '1673735365_pro-dachnikov-com-p-foto-za-partoi-v-univere-22_2.jpg',\n",
       " '1673735365_pro-dachnikov-com-p-foto-za-partoi-v-univere-22_3.jpg',\n",
       " '1673735365_pro-dachnikov-com-p-foto-za-partoi-v-univere-22_4.jpg',\n",
       " '1673735365_pro-dachnikov-com-p-foto-za-partoi-v-univere-22_5.jpg',\n",
       " '1673735365_pro-dachnikov-com-p-foto-za-partoi-v-univere-22_6.jpg',\n",
       " '1673735365_pro-dachnikov-com-p-foto-za-partoi-v-univere-22_7.jpg',\n",
       " '1673735365_pro-dachnikov-com-p-foto-za-partoi-v-univere-22_8.jpg',\n",
       " '1683640998_kartinkof-club-p-kartinki-lektsii-37_1.jpg',\n",
       " '1683640998_kartinkof-club-p-kartinki-lektsii-37_2.jpg',\n",
       " '1683640998_kartinkof-club-p-kartinki-lektsii-37_4.jpg',\n",
       " '1683640998_kartinkof-club-p-kartinki-lektsii-37_5.jpg',\n",
       " '1683640998_kartinkof-club-p-kartinki-lektsii-37_6.jpg',\n",
       " '2002461_1.jpg',\n",
       " '2002461_2.jpg',\n",
       " '2002461_4.jpg',\n",
       " '28_n1976129_big_1.jpg',\n",
       " '28_n1976129_big_10.jpg',\n",
       " '28_n1976129_big_11.jpg',\n",
       " '28_n1976129_big_12.jpg',\n",
       " '28_n1976129_big_13.jpg',\n",
       " '28_n1976129_big_14.jpg',\n",
       " '28_n1976129_big_15.jpg',\n",
       " '28_n1976129_big_16.jpg',\n",
       " '28_n1976129_big_17.jpg',\n",
       " '28_n1976129_big_18.jpg',\n",
       " '28_n1976129_big_2.jpg',\n",
       " '28_n1976129_big_21.jpg',\n",
       " '28_n1976129_big_22.jpg',\n",
       " '28_n1976129_big_23.jpg',\n",
       " '28_n1976129_big_24.jpg',\n",
       " '28_n1976129_big_25.jpg',\n",
       " '28_n1976129_big_26.jpg',\n",
       " '28_n1976129_big_27.jpg',\n",
       " '28_n1976129_big_28.jpg',\n",
       " '28_n1976129_big_29.jpg',\n",
       " '28_n1976129_big_3.jpg',\n",
       " '28_n1976129_big_30.jpg',\n",
       " '28_n1976129_big_34.jpg',\n",
       " '28_n1976129_big_35.jpg',\n",
       " '28_n1976129_big_36.jpg',\n",
       " '28_n1976129_big_37.jpg',\n",
       " '28_n1976129_big_38.jpg',\n",
       " '28_n1976129_big_39.jpg',\n",
       " '28_n1976129_big_4.jpg',\n",
       " '28_n1976129_big_5.jpg',\n",
       " '28_n1976129_big_6.jpg',\n",
       " '28_n1976129_big_7.jpg',\n",
       " '28_n1976129_big_8.jpg',\n",
       " '28_n1976129_big_9.jpg',\n",
       " '44218203881_968f50a0ff_k_2.jpg',\n",
       " '44218203881_968f50a0ff_k_3.jpg',\n",
       " '44218203881_968f50a0ff_k_4.jpg',\n",
       " '44218203881_968f50a0ff_k_6.jpg',\n",
       " '44218203881_968f50a0ff_k_7.jpg',\n",
       " '44218203881_968f50a0ff_k_8.jpg',\n",
       " '4yg895CH6II_1.jpg',\n",
       " '4yg895CH6II_2.jpg',\n",
       " '4yg895CH6II_3.jpg',\n",
       " '4yg895CH6II_4.jpg',\n",
       " '5a394610b890d909156903_1.jpg',\n",
       " '5a394610b890d909156903_10.jpg',\n",
       " '5a394610b890d909156903_12.jpg',\n",
       " '5a394610b890d909156903_13.jpg',\n",
       " '5a394610b890d909156903_14.jpg',\n",
       " '5a394610b890d909156903_15.jpg',\n",
       " '5a394610b890d909156903_16.jpg',\n",
       " '5a394610b890d909156903_17.jpg',\n",
       " '5a394610b890d909156903_18.jpg',\n",
       " '5a394610b890d909156903_19.jpg',\n",
       " '5a394610b890d909156903_2.jpg',\n",
       " '5a394610b890d909156903_20.jpg',\n",
       " '5a394610b890d909156903_21.jpg',\n",
       " '5a394610b890d909156903_22.jpg',\n",
       " '5a394610b890d909156903_23.jpg',\n",
       " '5a394610b890d909156903_24.jpg',\n",
       " '5a394610b890d909156903_25.jpg',\n",
       " '5a394610b890d909156903_26.jpg',\n",
       " '5a394610b890d909156903_28.jpg',\n",
       " '5a394610b890d909156903_29.jpg',\n",
       " '5a394610b890d909156903_3.jpg',\n",
       " '5a394610b890d909156903_30.jpg',\n",
       " '5a394610b890d909156903_31.jpg',\n",
       " '5a394610b890d909156903_32.jpg',\n",
       " '5a394610b890d909156903_33.jpg',\n",
       " '5a394610b890d909156903_4.jpg',\n",
       " '5a394610b890d909156903_5.jpg',\n",
       " '5a394610b890d909156903_6.jpg',\n",
       " '5a394610b890d909156903_7.jpg',\n",
       " '5a394610b890d909156903_8.jpg',\n",
       " '5a394610b890d909156903_9.jpg',\n",
       " '6389af16039c6663274986_1.jpg',\n",
       " '6389af16039c6663274986_2.jpg',\n",
       " '6389af16039c6663274986_3.jpg',\n",
       " '6389af16039c6663274986_4.jpg',\n",
       " '6389af16039c6663274986_5.jpg',\n",
       " 'e863687674f78533a62fd51266d3be90_1.jpg',\n",
       " 'e863687674f78533a62fd51266d3be90_2.jpg',\n",
       " 'e863687674f78533a62fd51266d3be90_3.jpg',\n",
       " 'foto_1.jpg',\n",
       " 'foto_2.jpg',\n",
       " 'foto_3.jpg',\n",
       " 'foto_4.jpg',\n",
       " 'foto_5.jpg',\n",
       " 'G8CiTZAxMMg_1.jpg',\n",
       " 'G8CiTZAxMMg_10.jpg',\n",
       " 'G8CiTZAxMMg_11.jpg',\n",
       " 'G8CiTZAxMMg_12.jpg',\n",
       " 'G8CiTZAxMMg_13.jpg',\n",
       " 'G8CiTZAxMMg_14.jpg',\n",
       " 'G8CiTZAxMMg_2.jpg',\n",
       " 'G8CiTZAxMMg_3.jpg',\n",
       " 'G8CiTZAxMMg_4.jpg',\n",
       " 'G8CiTZAxMMg_5.jpg',\n",
       " 'G8CiTZAxMMg_6.jpg',\n",
       " 'G8CiTZAxMMg_7.jpg',\n",
       " 'G8CiTZAxMMg_8.jpg',\n",
       " 'G8CiTZAxMMg_9.jpg',\n",
       " 'img_3475_2b_2_1.jpg',\n",
       " 'img_3475_2b_2_2.jpg',\n",
       " 'img_3475_2b_2_3.jpg',\n",
       " 'img_3475_2b_2_4.jpg',\n",
       " 'img_3475_2b_2_5.jpg',\n",
       " 'Nuzhno-li-xodit-na-lekcii_1.jpg',\n",
       " 'Nuzhno-li-xodit-na-lekcii_10.jpg',\n",
       " 'Nuzhno-li-xodit-na-lekcii_11.jpg',\n",
       " 'Nuzhno-li-xodit-na-lekcii_12.jpg',\n",
       " 'Nuzhno-li-xodit-na-lekcii_13.jpg',\n",
       " 'Nuzhno-li-xodit-na-lekcii_14.jpg',\n",
       " 'Nuzhno-li-xodit-na-lekcii_2.jpg',\n",
       " 'Nuzhno-li-xodit-na-lekcii_3.jpg',\n",
       " 'Nuzhno-li-xodit-na-lekcii_4.jpg',\n",
       " 'Nuzhno-li-xodit-na-lekcii_5.jpg',\n",
       " 'Nuzhno-li-xodit-na-lekcii_7.jpg',\n",
       " 'Nuzhno-li-xodit-na-lekcii_8.jpg',\n",
       " 'Nuzhno-li-xodit-na-lekcii_9.jpg',\n",
       " 'original_1.jpg',\n",
       " 'original_2.jpg',\n",
       " 'photo_002_1.jpg',\n",
       " 'photo_002_10.jpg',\n",
       " 'photo_002_11.jpg',\n",
       " 'photo_002_12.jpg',\n",
       " 'photo_002_13.jpg',\n",
       " 'photo_002_2.jpg',\n",
       " 'photo_002_3.jpg',\n",
       " 'photo_002_4.jpg',\n",
       " 'photo_002_5.jpg',\n",
       " 'photo_002_7.jpg',\n",
       " 'photo_002_8.jpg',\n",
       " 'photo_002_9.jpg',\n",
       " 'ria_2712484hr_63c_1.jpg',\n",
       " 'ria_2712484hr_63c_10.jpg',\n",
       " 'ria_2712484hr_63c_11.jpg',\n",
       " 'ria_2712484hr_63c_2.jpg',\n",
       " 'ria_2712484hr_63c_3.jpg',\n",
       " 'ria_2712484hr_63c_4.jpg',\n",
       " 'ria_2712484hr_63c_5.jpg',\n",
       " 'ria_2712484hr_63c_6.jpg',\n",
       " 'ria_2712484hr_63c_7.jpg',\n",
       " 'ria_2712484hr_63c_8.jpg',\n",
       " 'ria_2712484hr_63c_9.jpg',\n",
       " 'st (1)_1.jpg',\n",
       " 'st (1)_2.jpg',\n",
       " 'st (10)_1.jpg',\n",
       " 'st (10)_2.jpg',\n",
       " 'st (10)_3.jpg',\n",
       " 'st (10)_4.jpg',\n",
       " 'st (10)_5.jpg',\n",
       " 'st (10)_6.jpg',\n",
       " 'st0.jpg',\n",
       " 'st10_1.jpg',\n",
       " 'st10_2.jpg',\n",
       " 'st10_3.jpg',\n",
       " 'st10_4.jpg',\n",
       " 'st10_5.jpg',\n",
       " 'st10_6.jpg',\n",
       " 'st10_7.jpg',\n",
       " 'st11_1.jpg',\n",
       " 'st11_2.jpg',\n",
       " 'st11_3.jpg',\n",
       " 'st11_4.jpg',\n",
       " 'st12_1.jpg',\n",
       " 'st12_2.jpg',\n",
       " 'st12_3.jpg',\n",
       " 'st12_4.jpg',\n",
       " 'st12_5.jpg',\n",
       " 'st12_6.jpg',\n",
       " 'st12_7.jpg',\n",
       " 'st12_8.jpg',\n",
       " 'st12_9.jpg',\n",
       " 'st133_2.jpg',\n",
       " 'st133_4.jpg',\n",
       " 'st133_5.jpg',\n",
       " 'st135_1.jpg',\n",
       " 'st137_1.jpg',\n",
       " 'st139_3.jpg',\n",
       " 'st144_1.jpg',\n",
       " 'st144_2.jpg',\n",
       " 'st144_4.jpg',\n",
       " 'st14_2.jpg',\n",
       " 'st14_3.jpg',\n",
       " 'st15_1.jpg',\n",
       " 'st15_2.jpg',\n",
       " 'st16_4.jpg',\n",
       " 'st16_5.jpg',\n",
       " 'st16_6.jpg',\n",
       " 'st17_1.jpg',\n",
       " 'st17_2.jpg',\n",
       " 'st17_3.jpg',\n",
       " 'st17_4.jpg',\n",
       " 'st17_5.jpg',\n",
       " 'st18_1.jpg',\n",
       " 'st19_1.jpg',\n",
       " 'st19_10.jpg',\n",
       " 'st19_12.jpg',\n",
       " 'st19_2.jpg',\n",
       " 'st19_3.jpg',\n",
       " 'st19_4.jpg',\n",
       " 'st19_5.jpg',\n",
       " 'st19_7.jpg',\n",
       " 'st19_8.jpg',\n",
       " 'st19_9.jpg',\n",
       " 'st1_1.jpg',\n",
       " 'st1_10.jpg',\n",
       " 'st1_11.jpg',\n",
       " 'st1_13.jpg',\n",
       " 'st1_14.jpg',\n",
       " 'st1_15.jpg',\n",
       " 'st1_16.jpg',\n",
       " 'st1_2.jpg',\n",
       " 'st1_3.jpg',\n",
       " 'st1_4.jpg',\n",
       " 'st1_5.jpg',\n",
       " 'st1_6.jpg',\n",
       " 'st1_7.jpg',\n",
       " 'st1_8.jpg',\n",
       " 'st1_9.jpg',\n",
       " 'st20_1.jpg',\n",
       " 'st20_2.jpg',\n",
       " 'st20_3.jpg',\n",
       " 'st21_1.jpg',\n",
       " 'st22_1.jpg',\n",
       " 'st24_2.jpg',\n",
       " 'st25_1.jpg',\n",
       " 'st25_2.jpg',\n",
       " 'st25_3.jpg',\n",
       " 'st25_4.jpg',\n",
       " 'st25_6.jpg',\n",
       " 'st28_1.jpg',\n",
       " 'st28_2.jpg',\n",
       " 'st28_3.jpg',\n",
       " 'st29_1.jpg',\n",
       " 'st29_2.jpg',\n",
       " 'st29_3.jpg',\n",
       " 'st32_1.jpg',\n",
       " 'st32_2.jpg',\n",
       " 'st32_3.jpg',\n",
       " 'st32_4.jpg',\n",
       " 'st33_1.jpg',\n",
       " 'st33_2.jpg',\n",
       " 'st33_3.jpg',\n",
       " 'st33_4.jpg',\n",
       " 'st33_5.jpg',\n",
       " 'st33_6.jpg',\n",
       " 'st34_1.jpg',\n",
       " 'st34_12.jpg',\n",
       " 'st34_2.jpg',\n",
       " 'st34_3.jpg',\n",
       " 'st34_4.jpg',\n",
       " 'st34_5.jpg',\n",
       " 'st34_6.jpg',\n",
       " 'st34_7.jpg',\n",
       " 'st34_8.jpg',\n",
       " 'st36_1.jpg',\n",
       " 'st36_2.jpg',\n",
       " 'st36_3.jpg',\n",
       " 'st37_1.jpg',\n",
       " 'st37_2.jpg',\n",
       " 'st37_3.jpg',\n",
       " 'st37_4.jpg',\n",
       " 'st37_5.jpg',\n",
       " 'st38_1.jpg',\n",
       " 'st38_2.jpg',\n",
       " 'st38_3.jpg',\n",
       " 'st38_4.jpg',\n",
       " 'st38_5.jpg',\n",
       " 'st38_6.jpg',\n",
       " 'st38_7.jpg',\n",
       " 'st39_1.jpg',\n",
       " 'st39_10.jpg',\n",
       " 'st39_11.jpg',\n",
       " 'st39_2.jpg',\n",
       " 'st39_3.jpg',\n",
       " 'st39_4.jpg',\n",
       " 'st39_5.jpg',\n",
       " 'st39_6.jpg',\n",
       " 'st39_7.jpg',\n",
       " 'st39_8.jpg',\n",
       " 'st39_9.jpg',\n",
       " 'st40_1.jpg',\n",
       " 'st40_2.jpg',\n",
       " 'st40_3.jpg',\n",
       " 'st40_4.jpg',\n",
       " 'st41_1.jpg',\n",
       " 'st41_2.jpg',\n",
       " 'st41_3.jpg',\n",
       " 'st42_1.jpg',\n",
       " 'st42_2.jpg',\n",
       " 'st43_1.jpg',\n",
       " 'st43_11.jpg',\n",
       " 'st43_12.jpg',\n",
       " 'st43_13.jpg',\n",
       " 'st43_14.jpg',\n",
       " 'st43_15.jpg',\n",
       " 'st43_16.jpg',\n",
       " 'st43_17.jpg',\n",
       " 'st43_2.jpg',\n",
       " 'st43_3.jpg',\n",
       " 'st43_4.jpg',\n",
       " 'st43_5.jpg',\n",
       " 'st43_6.jpg',\n",
       " 'st43_7.jpg',\n",
       " 'st43_9.jpg',\n",
       " 'st44_1.jpg',\n",
       " 'st44_2.jpg',\n",
       " 'st44_3.jpg',\n",
       " 'st45_1.jpg',\n",
       " 'st45_2.jpg',\n",
       " 'st46_1.jpg',\n",
       " 'st46_2.jpg',\n",
       " 'st46_3.jpg',\n",
       " 'st47_1.jpg',\n",
       " 'st47_2.jpg',\n",
       " 'st47_3.jpg',\n",
       " 'st48_1.jpg',\n",
       " 'st48_3.jpg',\n",
       " 'st48_4.jpg',\n",
       " 'st48_5.jpg',\n",
       " 'st48_6.jpg',\n",
       " 'st48_7.jpg',\n",
       " 'st48_8.jpg',\n",
       " 'st48_9.jpg',\n",
       " 'st49_1.jpg',\n",
       " 'st49_10.jpg',\n",
       " 'st49_11.jpg',\n",
       " 'st49_12.jpg',\n",
       " 'st49_13.jpg',\n",
       " 'st49_14.jpg',\n",
       " 'st49_15.jpg',\n",
       " 'st49_3.jpg',\n",
       " 'st49_5.jpg',\n",
       " 'st49_7.jpg',\n",
       " 'st49_8.jpg',\n",
       " 'st49_9.jpg',\n",
       " 'st4_1.jpg',\n",
       " 'st4_10.jpg',\n",
       " 'st4_11.jpg',\n",
       " 'st4_12.jpg',\n",
       " 'st4_13.jpg',\n",
       " 'st4_14.jpg',\n",
       " 'st4_16.jpg',\n",
       " 'st4_17.jpg',\n",
       " 'st4_19.jpg',\n",
       " 'st4_2.jpg',\n",
       " 'st4_20.jpg',\n",
       " 'st4_21.jpg',\n",
       " 'st4_23.jpg',\n",
       " 'st4_24.jpg',\n",
       " 'st4_25.jpg',\n",
       " 'st4_26.jpg',\n",
       " 'st4_27.jpg',\n",
       " 'st4_29.jpg',\n",
       " 'st4_3.jpg',\n",
       " 'st4_30.jpg',\n",
       " 'st4_4.jpg',\n",
       " 'st4_5.jpg',\n",
       " 'st4_6.jpg',\n",
       " 'st4_7.jpg',\n",
       " 'st4_8.jpg',\n",
       " 'st4_9.jpg',\n",
       " 'st50_2.jpg',\n",
       " 'st50_4.jpg',\n",
       " 'st51_1.jpg',\n",
       " 'st51_2.jpg',\n",
       " 'st52_1.jpg',\n",
       " 'st52_2.jpg',\n",
       " 'st53_1.jpg',\n",
       " 'st53_2.jpg',\n",
       " 'st54_1.jpg',\n",
       " 'st54_2.jpg',\n",
       " 'st54_3.jpg',\n",
       " 'st54_4.jpg',\n",
       " 'st54_5.jpg',\n",
       " 'st55_1.jpg',\n",
       " 'st55_2.jpg',\n",
       " 'st55_3.jpg',\n",
       " 'st55_4.jpg',\n",
       " 'st56_1.jpg',\n",
       " 'st56_2.jpg',\n",
       " 'st56_3.jpg',\n",
       " 'st56_4.jpg',\n",
       " 'st58_3.jpg',\n",
       " 'st58_5.jpg',\n",
       " 'st5_1.jpg',\n",
       " 'st5_10.jpg',\n",
       " 'st5_11.jpg',\n",
       " 'st5_2.jpg',\n",
       " 'st5_3.jpg',\n",
       " 'st5_4.jpg',\n",
       " 'st5_5.jpg',\n",
       " 'st5_6.jpg',\n",
       " 'st5_7.jpg',\n",
       " 'st5_8.jpg',\n",
       " 'st64_1.jpg',\n",
       " 'st7_1.jpg',\n",
       " 'st7_10.jpg',\n",
       " 'st7_11.jpg',\n",
       " 'st7_12.jpg',\n",
       " 'st7_13.jpg',\n",
       " 'st7_14.jpg',\n",
       " 'st7_15.jpg',\n",
       " 'st7_2.jpg',\n",
       " 'st7_3.jpg',\n",
       " 'st7_4.jpg',\n",
       " 'st7_5.jpg',\n",
       " 'st7_6.jpg',\n",
       " 'st7_7.jpg',\n",
       " 'st7_8.jpg',\n",
       " 'st7_9.jpg',\n",
       " 'st8_1.jpg',\n",
       " 'st8_10.jpg',\n",
       " 'st8_2.jpg',\n",
       " 'st8_3.jpg',\n",
       " 'st8_4.jpg',\n",
       " 'st8_5.jpg',\n",
       " 'st8_6.jpg',\n",
       " 'st8_7.jpg',\n",
       " 'st8_8.jpg',\n",
       " 'st8_9.jpg',\n",
       " 'st9_1.jpg',\n",
       " 'st9_2.jpg',\n",
       " 'st9_3.jpg',\n",
       " 'st9_4.jpg',\n",
       " 'st9_5.jpg',\n",
       " 'st9_6.jpg',\n",
       " 'studenty-na-lekczii-1-scaled_2.jpg',\n",
       " 'studenty-na-lekczii-1-scaled_3.jpg',\n",
       " 'studenty-na-lekczii-1-scaled_4.jpg',\n",
       " 'studenty-na-lekczii-1-scaled_5.jpg',\n",
       " 'studenty-na-lekczii-1-scaled_6.jpg',\n",
       " 'studenty-na-lekczii-1-scaled_7.jpg',\n",
       " 'Zn0R0T54qLU_1.jpg',\n",
       " 'Zn0R0T54qLU_2.jpg',\n",
       " 'Zn0R0T54qLU_3.jpg']"
      ]
     },
     "execution_count": 7,
     "metadata": {},
     "output_type": "execute_result"
    }
   ],
   "source": [
    "[f for f in os.listdir(path_0) if os.path.isfile(os.path.join(path_0,f))]"
   ]
  },
  {
   "cell_type": "markdown",
   "metadata": {},
   "source": [
    "## КОД для создания обучающего датасета"
   ]
  },
  {
   "cell_type": "code",
   "execution_count": 8,
   "metadata": {},
   "outputs": [
    {
     "name": "stdout",
     "output_type": "stream",
     "text": [
      "D:\\ML\\Attention-focus-detection-daniyar\\data\\0\\1-1-1_1.jpg\n",
      "D:\\ML\\Attention-focus-detection-daniyar\\data\\0\\1-1-1_2.jpg\n",
      "D:\\ML\\Attention-focus-detection-daniyar\\data\\0\\1-1-1_3.jpg\n",
      "D:\\ML\\Attention-focus-detection-daniyar\\data\\0\\1-1-1_4.jpg\n",
      "D:\\ML\\Attention-focus-detection-daniyar\\data\\0\\1-1-1_5.jpg\n",
      "D:\\ML\\Attention-focus-detection-daniyar\\data\\0\\1-1-1_6.jpg\n",
      "D:\\ML\\Attention-focus-detection-daniyar\\data\\0\\1-1-1_7.jpg\n",
      "D:\\ML\\Attention-focus-detection-daniyar\\data\\0\\1-1-1_8.jpg\n",
      "D:\\ML\\Attention-focus-detection-daniyar\\data\\0\\1-1-1_9.jpg\n",
      "D:\\ML\\Attention-focus-detection-daniyar\\data\\0\\1559569135_8N5B8535_2.jpg\n",
      "'NoneType' object is not iterable\n",
      "D:\\ML\\Attention-focus-detection-daniyar\\data\\0\\1559569135_8N5B8535_3.jpg\n",
      "D:\\ML\\Attention-focus-detection-daniyar\\data\\0\\1597801_1.jpg\n",
      "D:\\ML\\Attention-focus-detection-daniyar\\data\\0\\1597801_10.jpg\n",
      "D:\\ML\\Attention-focus-detection-daniyar\\data\\0\\1597801_11.jpg\n",
      "D:\\ML\\Attention-focus-detection-daniyar\\data\\0\\1597801_14.jpg\n",
      "D:\\ML\\Attention-focus-detection-daniyar\\data\\0\\1597801_15.jpg\n",
      "D:\\ML\\Attention-focus-detection-daniyar\\data\\0\\1597801_16.jpg\n",
      "D:\\ML\\Attention-focus-detection-daniyar\\data\\0\\1597801_17.jpg\n",
      "D:\\ML\\Attention-focus-detection-daniyar\\data\\0\\1597801_2.jpg\n",
      "D:\\ML\\Attention-focus-detection-daniyar\\data\\0\\1597801_20.jpg\n",
      "D:\\ML\\Attention-focus-detection-daniyar\\data\\0\\1597801_21.jpg\n",
      "D:\\ML\\Attention-focus-detection-daniyar\\data\\0\\1597801_22.jpg\n",
      "D:\\ML\\Attention-focus-detection-daniyar\\data\\0\\1597801_23.jpg\n",
      "D:\\ML\\Attention-focus-detection-daniyar\\data\\0\\1597801_24.jpg\n",
      "D:\\ML\\Attention-focus-detection-daniyar\\data\\0\\1597801_25.jpg\n",
      "'NoneType' object is not iterable\n",
      "D:\\ML\\Attention-focus-detection-daniyar\\data\\0\\1597801_3.jpg\n",
      "D:\\ML\\Attention-focus-detection-daniyar\\data\\0\\1597801_5.jpg\n",
      "'NoneType' object is not iterable\n",
      "D:\\ML\\Attention-focus-detection-daniyar\\data\\0\\1597801_6.jpg\n",
      "D:\\ML\\Attention-focus-detection-daniyar\\data\\0\\1597801_8.jpg\n",
      "D:\\ML\\Attention-focus-detection-daniyar\\data\\0\\1597801_9.jpg\n",
      "D:\\ML\\Attention-focus-detection-daniyar\\data\\0\\1673735365_pro-dachnikov-com-p-foto-za-partoi-v-univere-22_1.jpg\n",
      "D:\\ML\\Attention-focus-detection-daniyar\\data\\0\\1673735365_pro-dachnikov-com-p-foto-za-partoi-v-univere-22_2.jpg\n",
      "D:\\ML\\Attention-focus-detection-daniyar\\data\\0\\1673735365_pro-dachnikov-com-p-foto-za-partoi-v-univere-22_3.jpg\n",
      "D:\\ML\\Attention-focus-detection-daniyar\\data\\0\\1673735365_pro-dachnikov-com-p-foto-za-partoi-v-univere-22_4.jpg\n",
      "D:\\ML\\Attention-focus-detection-daniyar\\data\\0\\1673735365_pro-dachnikov-com-p-foto-za-partoi-v-univere-22_5.jpg\n",
      "D:\\ML\\Attention-focus-detection-daniyar\\data\\0\\1673735365_pro-dachnikov-com-p-foto-za-partoi-v-univere-22_6.jpg\n",
      "D:\\ML\\Attention-focus-detection-daniyar\\data\\0\\1673735365_pro-dachnikov-com-p-foto-za-partoi-v-univere-22_7.jpg\n",
      "D:\\ML\\Attention-focus-detection-daniyar\\data\\0\\1673735365_pro-dachnikov-com-p-foto-za-partoi-v-univere-22_8.jpg\n",
      "D:\\ML\\Attention-focus-detection-daniyar\\data\\0\\1683640998_kartinkof-club-p-kartinki-lektsii-37_1.jpg\n",
      "D:\\ML\\Attention-focus-detection-daniyar\\data\\0\\1683640998_kartinkof-club-p-kartinki-lektsii-37_2.jpg\n",
      "D:\\ML\\Attention-focus-detection-daniyar\\data\\0\\1683640998_kartinkof-club-p-kartinki-lektsii-37_4.jpg\n",
      "'NoneType' object is not iterable\n",
      "D:\\ML\\Attention-focus-detection-daniyar\\data\\0\\1683640998_kartinkof-club-p-kartinki-lektsii-37_5.jpg\n",
      "D:\\ML\\Attention-focus-detection-daniyar\\data\\0\\1683640998_kartinkof-club-p-kartinki-lektsii-37_6.jpg\n",
      "D:\\ML\\Attention-focus-detection-daniyar\\data\\0\\2002461_1.jpg\n",
      "D:\\ML\\Attention-focus-detection-daniyar\\data\\0\\2002461_2.jpg\n",
      "D:\\ML\\Attention-focus-detection-daniyar\\data\\0\\2002461_4.jpg\n",
      "'NoneType' object is not iterable\n",
      "D:\\ML\\Attention-focus-detection-daniyar\\data\\0\\28_n1976129_big_1.jpg\n",
      "D:\\ML\\Attention-focus-detection-daniyar\\data\\0\\28_n1976129_big_10.jpg\n",
      "'NoneType' object is not iterable\n",
      "D:\\ML\\Attention-focus-detection-daniyar\\data\\0\\28_n1976129_big_11.jpg\n",
      "D:\\ML\\Attention-focus-detection-daniyar\\data\\0\\28_n1976129_big_12.jpg\n",
      "D:\\ML\\Attention-focus-detection-daniyar\\data\\0\\28_n1976129_big_13.jpg\n",
      "D:\\ML\\Attention-focus-detection-daniyar\\data\\0\\28_n1976129_big_14.jpg\n",
      "D:\\ML\\Attention-focus-detection-daniyar\\data\\0\\28_n1976129_big_15.jpg\n",
      "'NoneType' object is not iterable\n",
      "D:\\ML\\Attention-focus-detection-daniyar\\data\\0\\28_n1976129_big_16.jpg\n",
      "D:\\ML\\Attention-focus-detection-daniyar\\data\\0\\28_n1976129_big_17.jpg\n",
      "'NoneType' object is not iterable\n",
      "D:\\ML\\Attention-focus-detection-daniyar\\data\\0\\28_n1976129_big_18.jpg\n",
      "D:\\ML\\Attention-focus-detection-daniyar\\data\\0\\28_n1976129_big_2.jpg\n",
      "'NoneType' object is not iterable\n",
      "D:\\ML\\Attention-focus-detection-daniyar\\data\\0\\28_n1976129_big_21.jpg\n",
      "D:\\ML\\Attention-focus-detection-daniyar\\data\\0\\28_n1976129_big_22.jpg\n",
      "D:\\ML\\Attention-focus-detection-daniyar\\data\\0\\28_n1976129_big_23.jpg\n",
      "D:\\ML\\Attention-focus-detection-daniyar\\data\\0\\28_n1976129_big_24.jpg\n",
      "D:\\ML\\Attention-focus-detection-daniyar\\data\\0\\28_n1976129_big_25.jpg\n",
      "D:\\ML\\Attention-focus-detection-daniyar\\data\\0\\28_n1976129_big_26.jpg\n",
      "D:\\ML\\Attention-focus-detection-daniyar\\data\\0\\28_n1976129_big_27.jpg\n",
      "D:\\ML\\Attention-focus-detection-daniyar\\data\\0\\28_n1976129_big_28.jpg\n",
      "'NoneType' object is not iterable\n",
      "D:\\ML\\Attention-focus-detection-daniyar\\data\\0\\28_n1976129_big_29.jpg\n",
      "D:\\ML\\Attention-focus-detection-daniyar\\data\\0\\28_n1976129_big_3.jpg\n",
      "D:\\ML\\Attention-focus-detection-daniyar\\data\\0\\28_n1976129_big_30.jpg\n",
      "D:\\ML\\Attention-focus-detection-daniyar\\data\\0\\28_n1976129_big_34.jpg\n",
      "D:\\ML\\Attention-focus-detection-daniyar\\data\\0\\28_n1976129_big_35.jpg\n",
      "'NoneType' object is not iterable\n",
      "D:\\ML\\Attention-focus-detection-daniyar\\data\\0\\28_n1976129_big_36.jpg\n",
      "D:\\ML\\Attention-focus-detection-daniyar\\data\\0\\28_n1976129_big_37.jpg\n",
      "'NoneType' object is not iterable\n",
      "D:\\ML\\Attention-focus-detection-daniyar\\data\\0\\28_n1976129_big_38.jpg\n",
      "D:\\ML\\Attention-focus-detection-daniyar\\data\\0\\28_n1976129_big_39.jpg\n",
      "D:\\ML\\Attention-focus-detection-daniyar\\data\\0\\28_n1976129_big_4.jpg\n",
      "D:\\ML\\Attention-focus-detection-daniyar\\data\\0\\28_n1976129_big_5.jpg\n",
      "D:\\ML\\Attention-focus-detection-daniyar\\data\\0\\28_n1976129_big_6.jpg\n",
      "D:\\ML\\Attention-focus-detection-daniyar\\data\\0\\28_n1976129_big_7.jpg\n",
      "D:\\ML\\Attention-focus-detection-daniyar\\data\\0\\28_n1976129_big_8.jpg\n",
      "D:\\ML\\Attention-focus-detection-daniyar\\data\\0\\28_n1976129_big_9.jpg\n",
      "D:\\ML\\Attention-focus-detection-daniyar\\data\\0\\44218203881_968f50a0ff_k_2.jpg\n",
      "D:\\ML\\Attention-focus-detection-daniyar\\data\\0\\44218203881_968f50a0ff_k_3.jpg\n",
      "'NoneType' object is not iterable\n",
      "D:\\ML\\Attention-focus-detection-daniyar\\data\\0\\44218203881_968f50a0ff_k_4.jpg\n",
      "D:\\ML\\Attention-focus-detection-daniyar\\data\\0\\44218203881_968f50a0ff_k_6.jpg\n",
      "D:\\ML\\Attention-focus-detection-daniyar\\data\\0\\44218203881_968f50a0ff_k_7.jpg\n",
      "D:\\ML\\Attention-focus-detection-daniyar\\data\\0\\44218203881_968f50a0ff_k_8.jpg\n",
      "D:\\ML\\Attention-focus-detection-daniyar\\data\\0\\4yg895CH6II_1.jpg\n",
      "D:\\ML\\Attention-focus-detection-daniyar\\data\\0\\4yg895CH6II_2.jpg\n",
      "D:\\ML\\Attention-focus-detection-daniyar\\data\\0\\4yg895CH6II_3.jpg\n",
      "D:\\ML\\Attention-focus-detection-daniyar\\data\\0\\4yg895CH6II_4.jpg\n",
      "D:\\ML\\Attention-focus-detection-daniyar\\data\\0\\5a394610b890d909156903_1.jpg\n",
      "D:\\ML\\Attention-focus-detection-daniyar\\data\\0\\5a394610b890d909156903_10.jpg\n",
      "D:\\ML\\Attention-focus-detection-daniyar\\data\\0\\5a394610b890d909156903_12.jpg\n",
      "'NoneType' object is not iterable\n",
      "D:\\ML\\Attention-focus-detection-daniyar\\data\\0\\5a394610b890d909156903_13.jpg\n",
      "D:\\ML\\Attention-focus-detection-daniyar\\data\\0\\5a394610b890d909156903_14.jpg\n",
      "D:\\ML\\Attention-focus-detection-daniyar\\data\\0\\5a394610b890d909156903_15.jpg\n",
      "'NoneType' object is not iterable\n",
      "D:\\ML\\Attention-focus-detection-daniyar\\data\\0\\5a394610b890d909156903_16.jpg\n",
      "D:\\ML\\Attention-focus-detection-daniyar\\data\\0\\5a394610b890d909156903_17.jpg\n",
      "D:\\ML\\Attention-focus-detection-daniyar\\data\\0\\5a394610b890d909156903_18.jpg\n",
      "D:\\ML\\Attention-focus-detection-daniyar\\data\\0\\5a394610b890d909156903_19.jpg\n",
      "D:\\ML\\Attention-focus-detection-daniyar\\data\\0\\5a394610b890d909156903_2.jpg\n",
      "D:\\ML\\Attention-focus-detection-daniyar\\data\\0\\5a394610b890d909156903_20.jpg\n",
      "D:\\ML\\Attention-focus-detection-daniyar\\data\\0\\5a394610b890d909156903_21.jpg\n",
      "D:\\ML\\Attention-focus-detection-daniyar\\data\\0\\5a394610b890d909156903_22.jpg\n",
      "D:\\ML\\Attention-focus-detection-daniyar\\data\\0\\5a394610b890d909156903_23.jpg\n",
      "D:\\ML\\Attention-focus-detection-daniyar\\data\\0\\5a394610b890d909156903_24.jpg\n",
      "D:\\ML\\Attention-focus-detection-daniyar\\data\\0\\5a394610b890d909156903_25.jpg\n",
      "D:\\ML\\Attention-focus-detection-daniyar\\data\\0\\5a394610b890d909156903_26.jpg\n",
      "D:\\ML\\Attention-focus-detection-daniyar\\data\\0\\5a394610b890d909156903_28.jpg\n",
      "D:\\ML\\Attention-focus-detection-daniyar\\data\\0\\5a394610b890d909156903_29.jpg\n",
      "D:\\ML\\Attention-focus-detection-daniyar\\data\\0\\5a394610b890d909156903_3.jpg\n",
      "D:\\ML\\Attention-focus-detection-daniyar\\data\\0\\5a394610b890d909156903_30.jpg\n",
      "'NoneType' object is not iterable\n",
      "D:\\ML\\Attention-focus-detection-daniyar\\data\\0\\5a394610b890d909156903_31.jpg\n",
      "D:\\ML\\Attention-focus-detection-daniyar\\data\\0\\5a394610b890d909156903_32.jpg\n",
      "'NoneType' object is not iterable\n",
      "D:\\ML\\Attention-focus-detection-daniyar\\data\\0\\5a394610b890d909156903_33.jpg\n",
      "D:\\ML\\Attention-focus-detection-daniyar\\data\\0\\5a394610b890d909156903_4.jpg\n",
      "D:\\ML\\Attention-focus-detection-daniyar\\data\\0\\5a394610b890d909156903_5.jpg\n",
      "D:\\ML\\Attention-focus-detection-daniyar\\data\\0\\5a394610b890d909156903_6.jpg\n",
      "'NoneType' object is not iterable\n",
      "D:\\ML\\Attention-focus-detection-daniyar\\data\\0\\5a394610b890d909156903_7.jpg\n",
      "D:\\ML\\Attention-focus-detection-daniyar\\data\\0\\5a394610b890d909156903_8.jpg\n",
      "'NoneType' object is not iterable\n",
      "D:\\ML\\Attention-focus-detection-daniyar\\data\\0\\5a394610b890d909156903_9.jpg\n",
      "D:\\ML\\Attention-focus-detection-daniyar\\data\\0\\6389af16039c6663274986_1.jpg\n",
      "D:\\ML\\Attention-focus-detection-daniyar\\data\\0\\6389af16039c6663274986_2.jpg\n",
      "D:\\ML\\Attention-focus-detection-daniyar\\data\\0\\6389af16039c6663274986_3.jpg\n",
      "D:\\ML\\Attention-focus-detection-daniyar\\data\\0\\6389af16039c6663274986_4.jpg\n",
      "D:\\ML\\Attention-focus-detection-daniyar\\data\\0\\6389af16039c6663274986_5.jpg\n",
      "D:\\ML\\Attention-focus-detection-daniyar\\data\\0\\e863687674f78533a62fd51266d3be90_1.jpg\n",
      "D:\\ML\\Attention-focus-detection-daniyar\\data\\0\\e863687674f78533a62fd51266d3be90_2.jpg\n",
      "D:\\ML\\Attention-focus-detection-daniyar\\data\\0\\e863687674f78533a62fd51266d3be90_3.jpg\n",
      "D:\\ML\\Attention-focus-detection-daniyar\\data\\0\\foto_1.jpg\n",
      "D:\\ML\\Attention-focus-detection-daniyar\\data\\0\\foto_2.jpg\n",
      "D:\\ML\\Attention-focus-detection-daniyar\\data\\0\\foto_3.jpg\n",
      "'NoneType' object is not iterable\n",
      "D:\\ML\\Attention-focus-detection-daniyar\\data\\0\\foto_4.jpg\n",
      "D:\\ML\\Attention-focus-detection-daniyar\\data\\0\\foto_5.jpg\n",
      "'NoneType' object is not iterable\n",
      "D:\\ML\\Attention-focus-detection-daniyar\\data\\0\\G8CiTZAxMMg_1.jpg\n",
      "D:\\ML\\Attention-focus-detection-daniyar\\data\\0\\G8CiTZAxMMg_10.jpg\n",
      "D:\\ML\\Attention-focus-detection-daniyar\\data\\0\\G8CiTZAxMMg_11.jpg\n",
      "D:\\ML\\Attention-focus-detection-daniyar\\data\\0\\G8CiTZAxMMg_12.jpg\n",
      "D:\\ML\\Attention-focus-detection-daniyar\\data\\0\\G8CiTZAxMMg_13.jpg\n",
      "D:\\ML\\Attention-focus-detection-daniyar\\data\\0\\G8CiTZAxMMg_14.jpg\n",
      "D:\\ML\\Attention-focus-detection-daniyar\\data\\0\\G8CiTZAxMMg_2.jpg\n",
      "D:\\ML\\Attention-focus-detection-daniyar\\data\\0\\G8CiTZAxMMg_3.jpg\n",
      "D:\\ML\\Attention-focus-detection-daniyar\\data\\0\\G8CiTZAxMMg_4.jpg\n",
      "D:\\ML\\Attention-focus-detection-daniyar\\data\\0\\G8CiTZAxMMg_5.jpg\n",
      "D:\\ML\\Attention-focus-detection-daniyar\\data\\0\\G8CiTZAxMMg_6.jpg\n",
      "D:\\ML\\Attention-focus-detection-daniyar\\data\\0\\G8CiTZAxMMg_7.jpg\n",
      "'NoneType' object is not iterable\n",
      "D:\\ML\\Attention-focus-detection-daniyar\\data\\0\\G8CiTZAxMMg_8.jpg\n",
      "D:\\ML\\Attention-focus-detection-daniyar\\data\\0\\G8CiTZAxMMg_9.jpg\n",
      "D:\\ML\\Attention-focus-detection-daniyar\\data\\0\\img_3475_2b_2_1.jpg\n",
      "D:\\ML\\Attention-focus-detection-daniyar\\data\\0\\img_3475_2b_2_2.jpg\n",
      "D:\\ML\\Attention-focus-detection-daniyar\\data\\0\\img_3475_2b_2_3.jpg\n",
      "D:\\ML\\Attention-focus-detection-daniyar\\data\\0\\img_3475_2b_2_4.jpg\n",
      "'NoneType' object is not iterable\n",
      "D:\\ML\\Attention-focus-detection-daniyar\\data\\0\\img_3475_2b_2_5.jpg\n",
      "D:\\ML\\Attention-focus-detection-daniyar\\data\\0\\Nuzhno-li-xodit-na-lekcii_1.jpg\n",
      "'NoneType' object is not iterable\n",
      "D:\\ML\\Attention-focus-detection-daniyar\\data\\0\\Nuzhno-li-xodit-na-lekcii_10.jpg\n",
      "D:\\ML\\Attention-focus-detection-daniyar\\data\\0\\Nuzhno-li-xodit-na-lekcii_11.jpg\n",
      "D:\\ML\\Attention-focus-detection-daniyar\\data\\0\\Nuzhno-li-xodit-na-lekcii_12.jpg\n",
      "'NoneType' object is not iterable\n",
      "D:\\ML\\Attention-focus-detection-daniyar\\data\\0\\Nuzhno-li-xodit-na-lekcii_13.jpg\n",
      "D:\\ML\\Attention-focus-detection-daniyar\\data\\0\\Nuzhno-li-xodit-na-lekcii_14.jpg\n",
      "D:\\ML\\Attention-focus-detection-daniyar\\data\\0\\Nuzhno-li-xodit-na-lekcii_2.jpg\n",
      "D:\\ML\\Attention-focus-detection-daniyar\\data\\0\\Nuzhno-li-xodit-na-lekcii_3.jpg\n",
      "D:\\ML\\Attention-focus-detection-daniyar\\data\\0\\Nuzhno-li-xodit-na-lekcii_4.jpg\n",
      "D:\\ML\\Attention-focus-detection-daniyar\\data\\0\\Nuzhno-li-xodit-na-lekcii_5.jpg\n",
      "D:\\ML\\Attention-focus-detection-daniyar\\data\\0\\Nuzhno-li-xodit-na-lekcii_7.jpg\n",
      "D:\\ML\\Attention-focus-detection-daniyar\\data\\0\\Nuzhno-li-xodit-na-lekcii_8.jpg\n",
      "D:\\ML\\Attention-focus-detection-daniyar\\data\\0\\Nuzhno-li-xodit-na-lekcii_9.jpg\n",
      "D:\\ML\\Attention-focus-detection-daniyar\\data\\0\\original_1.jpg\n",
      "D:\\ML\\Attention-focus-detection-daniyar\\data\\0\\original_2.jpg\n",
      "D:\\ML\\Attention-focus-detection-daniyar\\data\\0\\photo_002_1.jpg\n",
      "'NoneType' object is not iterable\n",
      "D:\\ML\\Attention-focus-detection-daniyar\\data\\0\\photo_002_10.jpg\n",
      "D:\\ML\\Attention-focus-detection-daniyar\\data\\0\\photo_002_11.jpg\n",
      "D:\\ML\\Attention-focus-detection-daniyar\\data\\0\\photo_002_12.jpg\n",
      "D:\\ML\\Attention-focus-detection-daniyar\\data\\0\\photo_002_13.jpg\n",
      "'NoneType' object is not iterable\n",
      "D:\\ML\\Attention-focus-detection-daniyar\\data\\0\\photo_002_2.jpg\n",
      "D:\\ML\\Attention-focus-detection-daniyar\\data\\0\\photo_002_3.jpg\n",
      "D:\\ML\\Attention-focus-detection-daniyar\\data\\0\\photo_002_4.jpg\n",
      "D:\\ML\\Attention-focus-detection-daniyar\\data\\0\\photo_002_5.jpg\n",
      "D:\\ML\\Attention-focus-detection-daniyar\\data\\0\\photo_002_7.jpg\n",
      "D:\\ML\\Attention-focus-detection-daniyar\\data\\0\\photo_002_8.jpg\n",
      "D:\\ML\\Attention-focus-detection-daniyar\\data\\0\\photo_002_9.jpg\n",
      "'NoneType' object is not iterable\n",
      "D:\\ML\\Attention-focus-detection-daniyar\\data\\0\\ria_2712484hr_63c_1.jpg\n",
      "D:\\ML\\Attention-focus-detection-daniyar\\data\\0\\ria_2712484hr_63c_10.jpg\n",
      "D:\\ML\\Attention-focus-detection-daniyar\\data\\0\\ria_2712484hr_63c_11.jpg\n",
      "D:\\ML\\Attention-focus-detection-daniyar\\data\\0\\ria_2712484hr_63c_2.jpg\n",
      "D:\\ML\\Attention-focus-detection-daniyar\\data\\0\\ria_2712484hr_63c_3.jpg\n",
      "D:\\ML\\Attention-focus-detection-daniyar\\data\\0\\ria_2712484hr_63c_4.jpg\n",
      "D:\\ML\\Attention-focus-detection-daniyar\\data\\0\\ria_2712484hr_63c_5.jpg\n",
      "D:\\ML\\Attention-focus-detection-daniyar\\data\\0\\ria_2712484hr_63c_6.jpg\n",
      "D:\\ML\\Attention-focus-detection-daniyar\\data\\0\\ria_2712484hr_63c_7.jpg\n",
      "D:\\ML\\Attention-focus-detection-daniyar\\data\\0\\ria_2712484hr_63c_8.jpg\n",
      "D:\\ML\\Attention-focus-detection-daniyar\\data\\0\\ria_2712484hr_63c_9.jpg\n",
      "D:\\ML\\Attention-focus-detection-daniyar\\data\\0\\st (1)_1.jpg\n",
      "'NoneType' object is not iterable\n",
      "D:\\ML\\Attention-focus-detection-daniyar\\data\\0\\st (1)_2.jpg\n",
      "D:\\ML\\Attention-focus-detection-daniyar\\data\\0\\st (10)_1.jpg\n",
      "D:\\ML\\Attention-focus-detection-daniyar\\data\\0\\st (10)_2.jpg\n",
      "D:\\ML\\Attention-focus-detection-daniyar\\data\\0\\st (10)_3.jpg\n",
      "D:\\ML\\Attention-focus-detection-daniyar\\data\\0\\st (10)_4.jpg\n",
      "D:\\ML\\Attention-focus-detection-daniyar\\data\\0\\st (10)_5.jpg\n",
      "D:\\ML\\Attention-focus-detection-daniyar\\data\\0\\st (10)_6.jpg\n",
      "D:\\ML\\Attention-focus-detection-daniyar\\data\\0\\st0.jpg\n",
      "'NoneType' object is not iterable\n",
      "D:\\ML\\Attention-focus-detection-daniyar\\data\\0\\st10_1.jpg\n",
      "D:\\ML\\Attention-focus-detection-daniyar\\data\\0\\st10_2.jpg\n",
      "D:\\ML\\Attention-focus-detection-daniyar\\data\\0\\st10_3.jpg\n",
      "D:\\ML\\Attention-focus-detection-daniyar\\data\\0\\st10_4.jpg\n",
      "D:\\ML\\Attention-focus-detection-daniyar\\data\\0\\st10_5.jpg\n",
      "D:\\ML\\Attention-focus-detection-daniyar\\data\\0\\st10_6.jpg\n",
      "D:\\ML\\Attention-focus-detection-daniyar\\data\\0\\st10_7.jpg\n",
      "D:\\ML\\Attention-focus-detection-daniyar\\data\\0\\st11_1.jpg\n",
      "D:\\ML\\Attention-focus-detection-daniyar\\data\\0\\st11_2.jpg\n",
      "D:\\ML\\Attention-focus-detection-daniyar\\data\\0\\st11_3.jpg\n",
      "D:\\ML\\Attention-focus-detection-daniyar\\data\\0\\st11_4.jpg\n",
      "D:\\ML\\Attention-focus-detection-daniyar\\data\\0\\st12_1.jpg\n",
      "D:\\ML\\Attention-focus-detection-daniyar\\data\\0\\st12_2.jpg\n",
      "D:\\ML\\Attention-focus-detection-daniyar\\data\\0\\st12_3.jpg\n",
      "D:\\ML\\Attention-focus-detection-daniyar\\data\\0\\st12_4.jpg\n",
      "D:\\ML\\Attention-focus-detection-daniyar\\data\\0\\st12_5.jpg\n",
      "D:\\ML\\Attention-focus-detection-daniyar\\data\\0\\st12_6.jpg\n",
      "D:\\ML\\Attention-focus-detection-daniyar\\data\\0\\st12_7.jpg\n",
      "D:\\ML\\Attention-focus-detection-daniyar\\data\\0\\st12_8.jpg\n",
      "D:\\ML\\Attention-focus-detection-daniyar\\data\\0\\st12_9.jpg\n",
      "D:\\ML\\Attention-focus-detection-daniyar\\data\\0\\st133_2.jpg\n",
      "'NoneType' object is not iterable\n",
      "D:\\ML\\Attention-focus-detection-daniyar\\data\\0\\st133_4.jpg\n",
      "D:\\ML\\Attention-focus-detection-daniyar\\data\\0\\st133_5.jpg\n",
      "D:\\ML\\Attention-focus-detection-daniyar\\data\\0\\st135_1.jpg\n",
      "D:\\ML\\Attention-focus-detection-daniyar\\data\\0\\st137_1.jpg\n",
      "D:\\ML\\Attention-focus-detection-daniyar\\data\\0\\st139_3.jpg\n",
      "D:\\ML\\Attention-focus-detection-daniyar\\data\\0\\st144_1.jpg\n",
      "'NoneType' object is not iterable\n",
      "D:\\ML\\Attention-focus-detection-daniyar\\data\\0\\st144_2.jpg\n",
      "D:\\ML\\Attention-focus-detection-daniyar\\data\\0\\st144_4.jpg\n",
      "D:\\ML\\Attention-focus-detection-daniyar\\data\\0\\st14_2.jpg\n",
      "'NoneType' object is not iterable\n",
      "D:\\ML\\Attention-focus-detection-daniyar\\data\\0\\st14_3.jpg\n",
      "D:\\ML\\Attention-focus-detection-daniyar\\data\\0\\st15_1.jpg\n",
      "'NoneType' object is not iterable\n",
      "D:\\ML\\Attention-focus-detection-daniyar\\data\\0\\st15_2.jpg\n",
      "'NoneType' object is not iterable\n",
      "D:\\ML\\Attention-focus-detection-daniyar\\data\\0\\st16_4.jpg\n",
      "D:\\ML\\Attention-focus-detection-daniyar\\data\\0\\st16_5.jpg\n",
      "D:\\ML\\Attention-focus-detection-daniyar\\data\\0\\st16_6.jpg\n",
      "'NoneType' object is not iterable\n",
      "D:\\ML\\Attention-focus-detection-daniyar\\data\\0\\st17_1.jpg\n",
      "D:\\ML\\Attention-focus-detection-daniyar\\data\\0\\st17_2.jpg\n",
      "D:\\ML\\Attention-focus-detection-daniyar\\data\\0\\st17_3.jpg\n",
      "D:\\ML\\Attention-focus-detection-daniyar\\data\\0\\st17_4.jpg\n",
      "D:\\ML\\Attention-focus-detection-daniyar\\data\\0\\st17_5.jpg\n",
      "D:\\ML\\Attention-focus-detection-daniyar\\data\\0\\st18_1.jpg\n",
      "D:\\ML\\Attention-focus-detection-daniyar\\data\\0\\st19_1.jpg\n",
      "D:\\ML\\Attention-focus-detection-daniyar\\data\\0\\st19_10.jpg\n",
      "D:\\ML\\Attention-focus-detection-daniyar\\data\\0\\st19_12.jpg\n",
      "D:\\ML\\Attention-focus-detection-daniyar\\data\\0\\st19_2.jpg\n",
      "D:\\ML\\Attention-focus-detection-daniyar\\data\\0\\st19_3.jpg\n",
      "D:\\ML\\Attention-focus-detection-daniyar\\data\\0\\st19_4.jpg\n",
      "D:\\ML\\Attention-focus-detection-daniyar\\data\\0\\st19_5.jpg\n",
      "D:\\ML\\Attention-focus-detection-daniyar\\data\\0\\st19_7.jpg\n",
      "D:\\ML\\Attention-focus-detection-daniyar\\data\\0\\st19_8.jpg\n",
      "D:\\ML\\Attention-focus-detection-daniyar\\data\\0\\st19_9.jpg\n",
      "D:\\ML\\Attention-focus-detection-daniyar\\data\\0\\st1_1.jpg\n",
      "D:\\ML\\Attention-focus-detection-daniyar\\data\\0\\st1_10.jpg\n",
      "D:\\ML\\Attention-focus-detection-daniyar\\data\\0\\st1_11.jpg\n",
      "D:\\ML\\Attention-focus-detection-daniyar\\data\\0\\st1_13.jpg\n",
      "D:\\ML\\Attention-focus-detection-daniyar\\data\\0\\st1_14.jpg\n",
      "D:\\ML\\Attention-focus-detection-daniyar\\data\\0\\st1_15.jpg\n",
      "D:\\ML\\Attention-focus-detection-daniyar\\data\\0\\st1_16.jpg\n",
      "D:\\ML\\Attention-focus-detection-daniyar\\data\\0\\st1_2.jpg\n",
      "D:\\ML\\Attention-focus-detection-daniyar\\data\\0\\st1_3.jpg\n",
      "D:\\ML\\Attention-focus-detection-daniyar\\data\\0\\st1_4.jpg\n",
      "D:\\ML\\Attention-focus-detection-daniyar\\data\\0\\st1_5.jpg\n",
      "D:\\ML\\Attention-focus-detection-daniyar\\data\\0\\st1_6.jpg\n",
      "D:\\ML\\Attention-focus-detection-daniyar\\data\\0\\st1_7.jpg\n",
      "D:\\ML\\Attention-focus-detection-daniyar\\data\\0\\st1_8.jpg\n",
      "D:\\ML\\Attention-focus-detection-daniyar\\data\\0\\st1_9.jpg\n",
      "D:\\ML\\Attention-focus-detection-daniyar\\data\\0\\st20_1.jpg\n",
      "D:\\ML\\Attention-focus-detection-daniyar\\data\\0\\st20_2.jpg\n",
      "'NoneType' object is not iterable\n",
      "D:\\ML\\Attention-focus-detection-daniyar\\data\\0\\st20_3.jpg\n",
      "'NoneType' object is not iterable\n",
      "D:\\ML\\Attention-focus-detection-daniyar\\data\\0\\st21_1.jpg\n",
      "D:\\ML\\Attention-focus-detection-daniyar\\data\\0\\st22_1.jpg\n",
      "'NoneType' object is not iterable\n",
      "D:\\ML\\Attention-focus-detection-daniyar\\data\\0\\st24_2.jpg\n",
      "D:\\ML\\Attention-focus-detection-daniyar\\data\\0\\st25_1.jpg\n",
      "D:\\ML\\Attention-focus-detection-daniyar\\data\\0\\st25_2.jpg\n",
      "D:\\ML\\Attention-focus-detection-daniyar\\data\\0\\st25_3.jpg\n",
      "D:\\ML\\Attention-focus-detection-daniyar\\data\\0\\st25_4.jpg\n",
      "D:\\ML\\Attention-focus-detection-daniyar\\data\\0\\st25_6.jpg\n",
      "D:\\ML\\Attention-focus-detection-daniyar\\data\\0\\st28_1.jpg\n",
      "D:\\ML\\Attention-focus-detection-daniyar\\data\\0\\st28_2.jpg\n",
      "D:\\ML\\Attention-focus-detection-daniyar\\data\\0\\st28_3.jpg\n",
      "D:\\ML\\Attention-focus-detection-daniyar\\data\\0\\st29_1.jpg\n",
      "D:\\ML\\Attention-focus-detection-daniyar\\data\\0\\st29_2.jpg\n",
      "D:\\ML\\Attention-focus-detection-daniyar\\data\\0\\st29_3.jpg\n",
      "D:\\ML\\Attention-focus-detection-daniyar\\data\\0\\st32_1.jpg\n",
      "'NoneType' object is not iterable\n",
      "D:\\ML\\Attention-focus-detection-daniyar\\data\\0\\st32_2.jpg\n",
      "D:\\ML\\Attention-focus-detection-daniyar\\data\\0\\st32_3.jpg\n",
      "D:\\ML\\Attention-focus-detection-daniyar\\data\\0\\st32_4.jpg\n",
      "D:\\ML\\Attention-focus-detection-daniyar\\data\\0\\st33_1.jpg\n",
      "D:\\ML\\Attention-focus-detection-daniyar\\data\\0\\st33_2.jpg\n",
      "D:\\ML\\Attention-focus-detection-daniyar\\data\\0\\st33_3.jpg\n",
      "D:\\ML\\Attention-focus-detection-daniyar\\data\\0\\st33_4.jpg\n",
      "D:\\ML\\Attention-focus-detection-daniyar\\data\\0\\st33_5.jpg\n",
      "D:\\ML\\Attention-focus-detection-daniyar\\data\\0\\st33_6.jpg\n",
      "D:\\ML\\Attention-focus-detection-daniyar\\data\\0\\st34_1.jpg\n",
      "D:\\ML\\Attention-focus-detection-daniyar\\data\\0\\st34_12.jpg\n",
      "D:\\ML\\Attention-focus-detection-daniyar\\data\\0\\st34_2.jpg\n",
      "D:\\ML\\Attention-focus-detection-daniyar\\data\\0\\st34_3.jpg\n",
      "D:\\ML\\Attention-focus-detection-daniyar\\data\\0\\st34_4.jpg\n",
      "D:\\ML\\Attention-focus-detection-daniyar\\data\\0\\st34_5.jpg\n",
      "D:\\ML\\Attention-focus-detection-daniyar\\data\\0\\st34_6.jpg\n",
      "D:\\ML\\Attention-focus-detection-daniyar\\data\\0\\st34_7.jpg\n",
      "D:\\ML\\Attention-focus-detection-daniyar\\data\\0\\st34_8.jpg\n",
      "D:\\ML\\Attention-focus-detection-daniyar\\data\\0\\st36_1.jpg\n",
      "D:\\ML\\Attention-focus-detection-daniyar\\data\\0\\st36_2.jpg\n",
      "D:\\ML\\Attention-focus-detection-daniyar\\data\\0\\st36_3.jpg\n",
      "D:\\ML\\Attention-focus-detection-daniyar\\data\\0\\st37_1.jpg\n",
      "D:\\ML\\Attention-focus-detection-daniyar\\data\\0\\st37_2.jpg\n",
      "D:\\ML\\Attention-focus-detection-daniyar\\data\\0\\st37_3.jpg\n",
      "D:\\ML\\Attention-focus-detection-daniyar\\data\\0\\st37_4.jpg\n",
      "D:\\ML\\Attention-focus-detection-daniyar\\data\\0\\st37_5.jpg\n",
      "D:\\ML\\Attention-focus-detection-daniyar\\data\\0\\st38_1.jpg\n",
      "D:\\ML\\Attention-focus-detection-daniyar\\data\\0\\st38_2.jpg\n",
      "D:\\ML\\Attention-focus-detection-daniyar\\data\\0\\st38_3.jpg\n",
      "D:\\ML\\Attention-focus-detection-daniyar\\data\\0\\st38_4.jpg\n",
      "D:\\ML\\Attention-focus-detection-daniyar\\data\\0\\st38_5.jpg\n",
      "D:\\ML\\Attention-focus-detection-daniyar\\data\\0\\st38_6.jpg\n",
      "D:\\ML\\Attention-focus-detection-daniyar\\data\\0\\st38_7.jpg\n",
      "D:\\ML\\Attention-focus-detection-daniyar\\data\\0\\st39_1.jpg\n",
      "D:\\ML\\Attention-focus-detection-daniyar\\data\\0\\st39_10.jpg\n",
      "D:\\ML\\Attention-focus-detection-daniyar\\data\\0\\st39_11.jpg\n",
      "D:\\ML\\Attention-focus-detection-daniyar\\data\\0\\st39_2.jpg\n",
      "D:\\ML\\Attention-focus-detection-daniyar\\data\\0\\st39_3.jpg\n",
      "D:\\ML\\Attention-focus-detection-daniyar\\data\\0\\st39_4.jpg\n",
      "D:\\ML\\Attention-focus-detection-daniyar\\data\\0\\st39_5.jpg\n",
      "D:\\ML\\Attention-focus-detection-daniyar\\data\\0\\st39_6.jpg\n",
      "D:\\ML\\Attention-focus-detection-daniyar\\data\\0\\st39_7.jpg\n",
      "D:\\ML\\Attention-focus-detection-daniyar\\data\\0\\st39_8.jpg\n",
      "D:\\ML\\Attention-focus-detection-daniyar\\data\\0\\st39_9.jpg\n",
      "D:\\ML\\Attention-focus-detection-daniyar\\data\\0\\st40_1.jpg\n",
      "D:\\ML\\Attention-focus-detection-daniyar\\data\\0\\st40_2.jpg\n",
      "D:\\ML\\Attention-focus-detection-daniyar\\data\\0\\st40_3.jpg\n",
      "D:\\ML\\Attention-focus-detection-daniyar\\data\\0\\st40_4.jpg\n",
      "D:\\ML\\Attention-focus-detection-daniyar\\data\\0\\st41_1.jpg\n",
      "D:\\ML\\Attention-focus-detection-daniyar\\data\\0\\st41_2.jpg\n",
      "D:\\ML\\Attention-focus-detection-daniyar\\data\\0\\st41_3.jpg\n",
      "D:\\ML\\Attention-focus-detection-daniyar\\data\\0\\st42_1.jpg\n",
      "D:\\ML\\Attention-focus-detection-daniyar\\data\\0\\st42_2.jpg\n",
      "D:\\ML\\Attention-focus-detection-daniyar\\data\\0\\st43_1.jpg\n",
      "D:\\ML\\Attention-focus-detection-daniyar\\data\\0\\st43_11.jpg\n",
      "D:\\ML\\Attention-focus-detection-daniyar\\data\\0\\st43_12.jpg\n",
      "D:\\ML\\Attention-focus-detection-daniyar\\data\\0\\st43_13.jpg\n",
      "D:\\ML\\Attention-focus-detection-daniyar\\data\\0\\st43_14.jpg\n",
      "D:\\ML\\Attention-focus-detection-daniyar\\data\\0\\st43_15.jpg\n",
      "D:\\ML\\Attention-focus-detection-daniyar\\data\\0\\st43_16.jpg\n",
      "D:\\ML\\Attention-focus-detection-daniyar\\data\\0\\st43_17.jpg\n",
      "D:\\ML\\Attention-focus-detection-daniyar\\data\\0\\st43_2.jpg\n",
      "D:\\ML\\Attention-focus-detection-daniyar\\data\\0\\st43_3.jpg\n",
      "D:\\ML\\Attention-focus-detection-daniyar\\data\\0\\st43_4.jpg\n",
      "D:\\ML\\Attention-focus-detection-daniyar\\data\\0\\st43_5.jpg\n",
      "D:\\ML\\Attention-focus-detection-daniyar\\data\\0\\st43_6.jpg\n",
      "D:\\ML\\Attention-focus-detection-daniyar\\data\\0\\st43_7.jpg\n",
      "D:\\ML\\Attention-focus-detection-daniyar\\data\\0\\st43_9.jpg\n",
      "D:\\ML\\Attention-focus-detection-daniyar\\data\\0\\st44_1.jpg\n",
      "D:\\ML\\Attention-focus-detection-daniyar\\data\\0\\st44_2.jpg\n",
      "D:\\ML\\Attention-focus-detection-daniyar\\data\\0\\st44_3.jpg\n",
      "D:\\ML\\Attention-focus-detection-daniyar\\data\\0\\st45_1.jpg\n",
      "D:\\ML\\Attention-focus-detection-daniyar\\data\\0\\st45_2.jpg\n",
      "D:\\ML\\Attention-focus-detection-daniyar\\data\\0\\st46_1.jpg\n",
      "D:\\ML\\Attention-focus-detection-daniyar\\data\\0\\st46_2.jpg\n",
      "D:\\ML\\Attention-focus-detection-daniyar\\data\\0\\st46_3.jpg\n",
      "D:\\ML\\Attention-focus-detection-daniyar\\data\\0\\st47_1.jpg\n",
      "D:\\ML\\Attention-focus-detection-daniyar\\data\\0\\st47_2.jpg\n",
      "D:\\ML\\Attention-focus-detection-daniyar\\data\\0\\st47_3.jpg\n",
      "D:\\ML\\Attention-focus-detection-daniyar\\data\\0\\st48_1.jpg\n",
      "D:\\ML\\Attention-focus-detection-daniyar\\data\\0\\st48_3.jpg\n",
      "D:\\ML\\Attention-focus-detection-daniyar\\data\\0\\st48_4.jpg\n",
      "D:\\ML\\Attention-focus-detection-daniyar\\data\\0\\st48_5.jpg\n",
      "D:\\ML\\Attention-focus-detection-daniyar\\data\\0\\st48_6.jpg\n",
      "D:\\ML\\Attention-focus-detection-daniyar\\data\\0\\st48_7.jpg\n",
      "D:\\ML\\Attention-focus-detection-daniyar\\data\\0\\st48_8.jpg\n",
      "D:\\ML\\Attention-focus-detection-daniyar\\data\\0\\st48_9.jpg\n",
      "D:\\ML\\Attention-focus-detection-daniyar\\data\\0\\st49_1.jpg\n",
      "D:\\ML\\Attention-focus-detection-daniyar\\data\\0\\st49_10.jpg\n",
      "'NoneType' object is not iterable\n",
      "D:\\ML\\Attention-focus-detection-daniyar\\data\\0\\st49_11.jpg\n",
      "D:\\ML\\Attention-focus-detection-daniyar\\data\\0\\st49_12.jpg\n",
      "D:\\ML\\Attention-focus-detection-daniyar\\data\\0\\st49_13.jpg\n",
      "D:\\ML\\Attention-focus-detection-daniyar\\data\\0\\st49_14.jpg\n",
      "D:\\ML\\Attention-focus-detection-daniyar\\data\\0\\st49_15.jpg\n",
      "D:\\ML\\Attention-focus-detection-daniyar\\data\\0\\st49_3.jpg\n",
      "D:\\ML\\Attention-focus-detection-daniyar\\data\\0\\st49_5.jpg\n",
      "D:\\ML\\Attention-focus-detection-daniyar\\data\\0\\st49_7.jpg\n",
      "D:\\ML\\Attention-focus-detection-daniyar\\data\\0\\st49_8.jpg\n",
      "D:\\ML\\Attention-focus-detection-daniyar\\data\\0\\st49_9.jpg\n",
      "D:\\ML\\Attention-focus-detection-daniyar\\data\\0\\st4_1.jpg\n",
      "'NoneType' object is not iterable\n",
      "D:\\ML\\Attention-focus-detection-daniyar\\data\\0\\st4_10.jpg\n",
      "D:\\ML\\Attention-focus-detection-daniyar\\data\\0\\st4_11.jpg\n",
      "D:\\ML\\Attention-focus-detection-daniyar\\data\\0\\st4_12.jpg\n",
      "D:\\ML\\Attention-focus-detection-daniyar\\data\\0\\st4_13.jpg\n",
      "D:\\ML\\Attention-focus-detection-daniyar\\data\\0\\st4_14.jpg\n",
      "D:\\ML\\Attention-focus-detection-daniyar\\data\\0\\st4_16.jpg\n",
      "D:\\ML\\Attention-focus-detection-daniyar\\data\\0\\st4_17.jpg\n",
      "D:\\ML\\Attention-focus-detection-daniyar\\data\\0\\st4_19.jpg\n",
      "D:\\ML\\Attention-focus-detection-daniyar\\data\\0\\st4_2.jpg\n",
      "'NoneType' object is not iterable\n",
      "D:\\ML\\Attention-focus-detection-daniyar\\data\\0\\st4_20.jpg\n",
      "D:\\ML\\Attention-focus-detection-daniyar\\data\\0\\st4_21.jpg\n",
      "D:\\ML\\Attention-focus-detection-daniyar\\data\\0\\st4_23.jpg\n",
      "D:\\ML\\Attention-focus-detection-daniyar\\data\\0\\st4_24.jpg\n",
      "D:\\ML\\Attention-focus-detection-daniyar\\data\\0\\st4_25.jpg\n",
      "D:\\ML\\Attention-focus-detection-daniyar\\data\\0\\st4_26.jpg\n",
      "D:\\ML\\Attention-focus-detection-daniyar\\data\\0\\st4_27.jpg\n",
      "D:\\ML\\Attention-focus-detection-daniyar\\data\\0\\st4_29.jpg\n",
      "D:\\ML\\Attention-focus-detection-daniyar\\data\\0\\st4_3.jpg\n",
      "D:\\ML\\Attention-focus-detection-daniyar\\data\\0\\st4_30.jpg\n",
      "D:\\ML\\Attention-focus-detection-daniyar\\data\\0\\st4_4.jpg\n",
      "D:\\ML\\Attention-focus-detection-daniyar\\data\\0\\st4_5.jpg\n",
      "D:\\ML\\Attention-focus-detection-daniyar\\data\\0\\st4_6.jpg\n",
      "D:\\ML\\Attention-focus-detection-daniyar\\data\\0\\st4_7.jpg\n",
      "D:\\ML\\Attention-focus-detection-daniyar\\data\\0\\st4_8.jpg\n",
      "D:\\ML\\Attention-focus-detection-daniyar\\data\\0\\st4_9.jpg\n",
      "D:\\ML\\Attention-focus-detection-daniyar\\data\\0\\st50_2.jpg\n",
      "D:\\ML\\Attention-focus-detection-daniyar\\data\\0\\st50_4.jpg\n",
      "D:\\ML\\Attention-focus-detection-daniyar\\data\\0\\st51_1.jpg\n",
      "D:\\ML\\Attention-focus-detection-daniyar\\data\\0\\st51_2.jpg\n",
      "'NoneType' object is not iterable\n",
      "D:\\ML\\Attention-focus-detection-daniyar\\data\\0\\st52_1.jpg\n",
      "D:\\ML\\Attention-focus-detection-daniyar\\data\\0\\st52_2.jpg\n",
      "D:\\ML\\Attention-focus-detection-daniyar\\data\\0\\st53_1.jpg\n",
      "D:\\ML\\Attention-focus-detection-daniyar\\data\\0\\st53_2.jpg\n",
      "D:\\ML\\Attention-focus-detection-daniyar\\data\\0\\st54_1.jpg\n",
      "D:\\ML\\Attention-focus-detection-daniyar\\data\\0\\st54_2.jpg\n",
      "D:\\ML\\Attention-focus-detection-daniyar\\data\\0\\st54_3.jpg\n",
      "D:\\ML\\Attention-focus-detection-daniyar\\data\\0\\st54_4.jpg\n",
      "D:\\ML\\Attention-focus-detection-daniyar\\data\\0\\st54_5.jpg\n",
      "D:\\ML\\Attention-focus-detection-daniyar\\data\\0\\st55_1.jpg\n",
      "D:\\ML\\Attention-focus-detection-daniyar\\data\\0\\st55_2.jpg\n",
      "D:\\ML\\Attention-focus-detection-daniyar\\data\\0\\st55_3.jpg\n",
      "D:\\ML\\Attention-focus-detection-daniyar\\data\\0\\st55_4.jpg\n",
      "D:\\ML\\Attention-focus-detection-daniyar\\data\\0\\st56_1.jpg\n",
      "D:\\ML\\Attention-focus-detection-daniyar\\data\\0\\st56_2.jpg\n",
      "D:\\ML\\Attention-focus-detection-daniyar\\data\\0\\st56_3.jpg\n",
      "D:\\ML\\Attention-focus-detection-daniyar\\data\\0\\st56_4.jpg\n",
      "D:\\ML\\Attention-focus-detection-daniyar\\data\\0\\st58_3.jpg\n",
      "D:\\ML\\Attention-focus-detection-daniyar\\data\\0\\st58_5.jpg\n",
      "D:\\ML\\Attention-focus-detection-daniyar\\data\\0\\st5_1.jpg\n",
      "'NoneType' object is not iterable\n",
      "D:\\ML\\Attention-focus-detection-daniyar\\data\\0\\st5_10.jpg\n",
      "D:\\ML\\Attention-focus-detection-daniyar\\data\\0\\st5_11.jpg\n",
      "'NoneType' object is not iterable\n",
      "D:\\ML\\Attention-focus-detection-daniyar\\data\\0\\st5_2.jpg\n",
      "D:\\ML\\Attention-focus-detection-daniyar\\data\\0\\st5_3.jpg\n",
      "D:\\ML\\Attention-focus-detection-daniyar\\data\\0\\st5_4.jpg\n",
      "D:\\ML\\Attention-focus-detection-daniyar\\data\\0\\st5_5.jpg\n",
      "D:\\ML\\Attention-focus-detection-daniyar\\data\\0\\st5_6.jpg\n",
      "D:\\ML\\Attention-focus-detection-daniyar\\data\\0\\st5_7.jpg\n",
      "D:\\ML\\Attention-focus-detection-daniyar\\data\\0\\st5_8.jpg\n",
      "D:\\ML\\Attention-focus-detection-daniyar\\data\\0\\st64_1.jpg\n",
      "'NoneType' object is not iterable\n",
      "D:\\ML\\Attention-focus-detection-daniyar\\data\\0\\st7_1.jpg\n",
      "D:\\ML\\Attention-focus-detection-daniyar\\data\\0\\st7_10.jpg\n",
      "D:\\ML\\Attention-focus-detection-daniyar\\data\\0\\st7_11.jpg\n",
      "D:\\ML\\Attention-focus-detection-daniyar\\data\\0\\st7_12.jpg\n",
      "D:\\ML\\Attention-focus-detection-daniyar\\data\\0\\st7_13.jpg\n",
      "D:\\ML\\Attention-focus-detection-daniyar\\data\\0\\st7_14.jpg\n",
      "D:\\ML\\Attention-focus-detection-daniyar\\data\\0\\st7_15.jpg\n",
      "D:\\ML\\Attention-focus-detection-daniyar\\data\\0\\st7_2.jpg\n",
      "D:\\ML\\Attention-focus-detection-daniyar\\data\\0\\st7_3.jpg\n",
      "D:\\ML\\Attention-focus-detection-daniyar\\data\\0\\st7_4.jpg\n",
      "'NoneType' object is not iterable\n",
      "D:\\ML\\Attention-focus-detection-daniyar\\data\\0\\st7_5.jpg\n",
      "D:\\ML\\Attention-focus-detection-daniyar\\data\\0\\st7_6.jpg\n",
      "'NoneType' object is not iterable\n",
      "D:\\ML\\Attention-focus-detection-daniyar\\data\\0\\st7_7.jpg\n",
      "D:\\ML\\Attention-focus-detection-daniyar\\data\\0\\st7_8.jpg\n",
      "D:\\ML\\Attention-focus-detection-daniyar\\data\\0\\st7_9.jpg\n",
      "D:\\ML\\Attention-focus-detection-daniyar\\data\\0\\st8_1.jpg\n",
      "'NoneType' object is not iterable\n",
      "D:\\ML\\Attention-focus-detection-daniyar\\data\\0\\st8_10.jpg\n",
      "D:\\ML\\Attention-focus-detection-daniyar\\data\\0\\st8_2.jpg\n",
      "D:\\ML\\Attention-focus-detection-daniyar\\data\\0\\st8_3.jpg\n",
      "D:\\ML\\Attention-focus-detection-daniyar\\data\\0\\st8_4.jpg\n",
      "D:\\ML\\Attention-focus-detection-daniyar\\data\\0\\st8_5.jpg\n",
      "D:\\ML\\Attention-focus-detection-daniyar\\data\\0\\st8_6.jpg\n",
      "D:\\ML\\Attention-focus-detection-daniyar\\data\\0\\st8_7.jpg\n",
      "D:\\ML\\Attention-focus-detection-daniyar\\data\\0\\st8_8.jpg\n",
      "D:\\ML\\Attention-focus-detection-daniyar\\data\\0\\st8_9.jpg\n",
      "D:\\ML\\Attention-focus-detection-daniyar\\data\\0\\st9_1.jpg\n",
      "D:\\ML\\Attention-focus-detection-daniyar\\data\\0\\st9_2.jpg\n",
      "D:\\ML\\Attention-focus-detection-daniyar\\data\\0\\st9_3.jpg\n",
      "D:\\ML\\Attention-focus-detection-daniyar\\data\\0\\st9_4.jpg\n",
      "D:\\ML\\Attention-focus-detection-daniyar\\data\\0\\st9_5.jpg\n",
      "D:\\ML\\Attention-focus-detection-daniyar\\data\\0\\st9_6.jpg\n",
      "D:\\ML\\Attention-focus-detection-daniyar\\data\\0\\studenty-na-lekczii-1-scaled_2.jpg\n",
      "D:\\ML\\Attention-focus-detection-daniyar\\data\\0\\studenty-na-lekczii-1-scaled_3.jpg\n",
      "D:\\ML\\Attention-focus-detection-daniyar\\data\\0\\studenty-na-lekczii-1-scaled_4.jpg\n",
      "D:\\ML\\Attention-focus-detection-daniyar\\data\\0\\studenty-na-lekczii-1-scaled_5.jpg\n",
      "D:\\ML\\Attention-focus-detection-daniyar\\data\\0\\studenty-na-lekczii-1-scaled_6.jpg\n",
      "D:\\ML\\Attention-focus-detection-daniyar\\data\\0\\studenty-na-lekczii-1-scaled_7.jpg\n",
      "D:\\ML\\Attention-focus-detection-daniyar\\data\\0\\Zn0R0T54qLU_1.jpg\n",
      "'NoneType' object is not iterable\n",
      "D:\\ML\\Attention-focus-detection-daniyar\\data\\0\\Zn0R0T54qLU_2.jpg\n",
      "D:\\ML\\Attention-focus-detection-daniyar\\data\\0\\Zn0R0T54qLU_3.jpg\n"
     ]
    }
   ],
   "source": [
    "dataset_path = 'dataset.csv'\n",
    "df = pd.DataFrame(columns=np.arange(478 * 3 + 2))\n",
    "\n",
    "for file in [f for f in os.listdir(path_0) if os.path.isfile(os.path.join(path_0,f))]:\n",
    "    print(path_0 + file)\n",
    "    image = cv2.imread(path_0 + file, 1)\n",
    "\n",
    "    image.flags.writeable = False\n",
    "    image.flags.writeable = True\n",
    "\n",
    "    results = face_mesh.process(image)\n",
    "    #if not results.multi_face_landmarks:\n",
    "    #    print(file)\n",
    "    #    continue\n",
    "    annotated_image = image.copy()\n",
    "    try:\n",
    "        for face_landmarks in results.multi_face_landmarks:\n",
    "\n",
    "            lm_list = [file, 0]\n",
    "            #print('face_landmarks:', (face_landmarks))\n",
    "            #print(len(face_landmarks.landmark))\n",
    "            for lm in face_landmarks.landmark:\n",
    "                lm_list.append(lm.x)\n",
    "                lm_list.append(lm.y)\n",
    "                lm_list.append(lm.z)\n",
    "\n",
    "            df.loc[len(df)] = lm_list\n",
    "\n",
    "            #print(face_landmarks[0])\n",
    "            mp_drawing.draw_landmarks(\n",
    "            image=annotated_image,\n",
    "            landmark_list=face_landmarks,\n",
    "            connections=mp_face_mesh.FACEMESH_TESSELATION,\n",
    "            landmark_drawing_spec=None,\n",
    "            connection_drawing_spec=mp_drawing_styles\n",
    "            .get_default_face_mesh_tesselation_style())\n",
    "            mp_drawing.draw_landmarks(\n",
    "                image=annotated_image,\n",
    "                landmark_list=face_landmarks,\n",
    "                connections=mp_face_mesh.FACEMESH_CONTOURS,\n",
    "                landmark_drawing_spec=None,\n",
    "                connection_drawing_spec=mp_drawing_styles\n",
    "                .get_default_face_mesh_contours_style())\n",
    "    except TypeError as exc:\n",
    "        print(exc)\n",
    "\n",
    "    #cv2.imwrite(path_0 + '//mp//' + str(file) + '.png', annotated_image)\n",
    "df.to_csv('dataset.csv', sep=';')"
   ]
  },
  {
   "cell_type": "code",
   "execution_count": 10,
   "metadata": {},
   "outputs": [
    {
     "name": "stderr",
     "output_type": "stream",
     "text": [
      "  0%|          | 0/225 [00:00<?, ?it/s]"
     ]
    },
    {
     "name": "stdout",
     "output_type": "stream",
     "text": [
      "D:\\ML\\Attention-focus-detection-daniyar\\data\\1\\1559569135_8N5B8535_1.jpg\n"
     ]
    },
    {
     "name": "stderr",
     "output_type": "stream",
     "text": [
      "  1%|▏         | 3/225 [00:00<00:27,  7.95it/s]"
     ]
    },
    {
     "name": "stdout",
     "output_type": "stream",
     "text": [
      "D:\\ML\\Attention-focus-detection-daniyar\\data\\1\\1559569135_8N5B8535_4.jpg\n",
      "D:\\ML\\Attention-focus-detection-daniyar\\data\\1\\1597801_12.jpg\n",
      "D:\\ML\\Attention-focus-detection-daniyar\\data\\1\\1597801_13.jpg\n"
     ]
    },
    {
     "name": "stderr",
     "output_type": "stream",
     "text": [
      "  2%|▏         | 5/225 [00:00<00:22,  9.97it/s]"
     ]
    },
    {
     "name": "stdout",
     "output_type": "stream",
     "text": [
      "D:\\ML\\Attention-focus-detection-daniyar\\data\\1\\1597801_26.jpg\n",
      "D:\\ML\\Attention-focus-detection-daniyar\\data\\1\\1597801_4.jpg\n"
     ]
    },
    {
     "name": "stderr",
     "output_type": "stream",
     "text": [
      "  3%|▎         | 7/225 [00:00<00:26,  8.32it/s]"
     ]
    },
    {
     "name": "stdout",
     "output_type": "stream",
     "text": [
      "D:\\ML\\Attention-focus-detection-daniyar\\data\\1\\1597801_7.jpg\n",
      "D:\\ML\\Attention-focus-detection-daniyar\\data\\1\\1673735382_pro-dachnikov-com-p-foto-za-partoi-v-univere-4_1.jpg\n",
      "D:\\ML\\Attention-focus-detection-daniyar\\data\\1\\1673735382_pro-dachnikov-com-p-foto-za-partoi-v-univere-4_2.jpg\n"
     ]
    },
    {
     "name": "stderr",
     "output_type": "stream",
     "text": [
      "  4%|▍         | 9/225 [00:01<00:22,  9.52it/s]"
     ]
    },
    {
     "name": "stdout",
     "output_type": "stream",
     "text": [
      "D:\\ML\\Attention-focus-detection-daniyar\\data\\1\\1673735382_pro-dachnikov-com-p-foto-za-partoi-v-univere-4_3.jpg\n",
      "1673735382_pro-dachnikov-com-p-foto-za-partoi-v-univere-4_3.jpg\n",
      "D:\\ML\\Attention-focus-detection-daniyar\\data\\1\\1673735382_pro-dachnikov-com-p-foto-za-partoi-v-univere-4_4.jpg\n"
     ]
    },
    {
     "name": "stderr",
     "output_type": "stream",
     "text": [
      "  6%|▌         | 13/225 [00:01<00:20, 10.15it/s]"
     ]
    },
    {
     "name": "stdout",
     "output_type": "stream",
     "text": [
      "D:\\ML\\Attention-focus-detection-daniyar\\data\\1\\1673971580_pro-dachnikov-com-p-studenti-za-partami-foto-60_1.jpg\n",
      "D:\\ML\\Attention-focus-detection-daniyar\\data\\1\\1673971580_pro-dachnikov-com-p-studenti-za-partami-foto-60_2.jpg\n",
      "D:\\ML\\Attention-focus-detection-daniyar\\data\\1\\1673971580_pro-dachnikov-com-p-studenti-za-partami-foto-60_3.jpg\n"
     ]
    },
    {
     "name": "stderr",
     "output_type": "stream",
     "text": [
      "  7%|▋         | 15/225 [00:01<00:19, 10.66it/s]"
     ]
    },
    {
     "name": "stdout",
     "output_type": "stream",
     "text": [
      "D:\\ML\\Attention-focus-detection-daniyar\\data\\1\\1673971580_pro-dachnikov-com-p-studenti-za-partami-foto-60_4.jpg\n",
      "D:\\ML\\Attention-focus-detection-daniyar\\data\\1\\1673971580_pro-dachnikov-com-p-studenti-za-partami-foto-60_5.jpg\n"
     ]
    },
    {
     "name": "stderr",
     "output_type": "stream",
     "text": [
      "  8%|▊         | 17/225 [00:01<00:23,  8.92it/s]"
     ]
    },
    {
     "name": "stdout",
     "output_type": "stream",
     "text": [
      "D:\\ML\\Attention-focus-detection-daniyar\\data\\1\\1683640998_kartinkof-club-p-kartinki-lektsii-37_3.jpg\n",
      "D:\\ML\\Attention-focus-detection-daniyar\\data\\1\\2002461_3.jpg\n",
      "D:\\ML\\Attention-focus-detection-daniyar\\data\\1\\2002461_5.jpg\n"
     ]
    },
    {
     "name": "stderr",
     "output_type": "stream",
     "text": [
      "  8%|▊         | 19/225 [00:02<00:20,  9.94it/s]"
     ]
    },
    {
     "name": "stdout",
     "output_type": "stream",
     "text": [
      "D:\\ML\\Attention-focus-detection-daniyar\\data\\1\\28_n1976129_big_19.jpg\n",
      "D:\\ML\\Attention-focus-detection-daniyar\\data\\1\\28_n1976129_big_20.jpg\n"
     ]
    },
    {
     "name": "stderr",
     "output_type": "stream",
     "text": [
      " 11%|█         | 25/225 [00:02<00:16, 12.02it/s]"
     ]
    },
    {
     "name": "stdout",
     "output_type": "stream",
     "text": [
      "D:\\ML\\Attention-focus-detection-daniyar\\data\\1\\28_n1976129_big_31.jpg\n",
      "28_n1976129_big_31.jpg\n",
      "D:\\ML\\Attention-focus-detection-daniyar\\data\\1\\28_n1976129_big_32.jpg\n",
      "D:\\ML\\Attention-focus-detection-daniyar\\data\\1\\28_n1976129_big_33.jpg\n",
      "28_n1976129_big_33.jpg\n",
      "D:\\ML\\Attention-focus-detection-daniyar\\data\\1\\44218203881_968f50a0ff_k_1.jpg\n",
      "D:\\ML\\Attention-focus-detection-daniyar\\data\\1\\44218203881_968f50a0ff_k_9.jpg\n",
      "44218203881_968f50a0ff_k_9.jpg\n",
      "D:\\ML\\Attention-focus-detection-daniyar\\data\\1\\5a394610b890d909156903_11.jpg\n",
      "D:\\ML\\Attention-focus-detection-daniyar\\data\\1\\5a394610b890d909156903_27.jpg\n"
     ]
    },
    {
     "name": "stderr",
     "output_type": "stream",
     "text": [
      " 14%|█▍        | 31/225 [00:03<00:15, 12.48it/s]"
     ]
    },
    {
     "name": "stdout",
     "output_type": "stream",
     "text": [
      "D:\\ML\\Attention-focus-detection-daniyar\\data\\1\\e407d64acb0ec1530efb97fb6b8d3b19_1.jpg\n",
      "D:\\ML\\Attention-focus-detection-daniyar\\data\\1\\e407d64acb0ec1530efb97fb6b8d3b19_2.jpg\n",
      "e407d64acb0ec1530efb97fb6b8d3b19_2.jpg\n",
      "D:\\ML\\Attention-focus-detection-daniyar\\data\\1\\e407d64acb0ec1530efb97fb6b8d3b19_3.jpg\n",
      "D:\\ML\\Attention-focus-detection-daniyar\\data\\1\\e407d64acb0ec1530efb97fb6b8d3b19_4.jpg\n"
     ]
    },
    {
     "name": "stderr",
     "output_type": "stream",
     "text": [
      " 15%|█▍        | 33/225 [00:03<00:15, 12.61it/s]"
     ]
    },
    {
     "name": "stdout",
     "output_type": "stream",
     "text": [
      "D:\\ML\\Attention-focus-detection-daniyar\\data\\1\\e407d64acb0ec1530efb97fb6b8d3b19_5.jpg\n",
      "D:\\ML\\Attention-focus-detection-daniyar\\data\\1\\e407d64acb0ec1530efb97fb6b8d3b19_6.jpg\n",
      "e407d64acb0ec1530efb97fb6b8d3b19_6.jpg\n",
      "D:\\ML\\Attention-focus-detection-daniyar\\data\\1\\e407d64acb0ec1530efb97fb6b8d3b19_7.jpg\n"
     ]
    },
    {
     "name": "stderr",
     "output_type": "stream",
     "text": [
      " 17%|█▋        | 38/225 [00:03<00:14, 12.99it/s]"
     ]
    },
    {
     "name": "stdout",
     "output_type": "stream",
     "text": [
      "D:\\ML\\Attention-focus-detection-daniyar\\data\\1\\Nuzhno-li-xodit-na-lekcii_6.jpg\n",
      "D:\\ML\\Attention-focus-detection-daniyar\\data\\1\\photo_002_6.jpg\n",
      "photo_002_6.jpg\n",
      "D:\\ML\\Attention-focus-detection-daniyar\\data\\1\\st (10)_7.jpg\n",
      "D:\\ML\\Attention-focus-detection-daniyar\\data\\1\\st100_1.jpg\n"
     ]
    },
    {
     "name": "stderr",
     "output_type": "stream",
     "text": [
      " 18%|█▊        | 41/225 [00:03<00:12, 14.29it/s]"
     ]
    },
    {
     "name": "stdout",
     "output_type": "stream",
     "text": [
      "D:\\ML\\Attention-focus-detection-daniyar\\data\\1\\st101_1.jpg\n",
      "st101_1.jpg\n",
      "D:\\ML\\Attention-focus-detection-daniyar\\data\\1\\st101_2.jpg\n",
      "D:\\ML\\Attention-focus-detection-daniyar\\data\\1\\st102_1.jpg\n",
      "st102_1.jpg\n",
      "D:\\ML\\Attention-focus-detection-daniyar\\data\\1\\st103_1.jpg\n"
     ]
    },
    {
     "name": "stderr",
     "output_type": "stream",
     "text": [
      " 20%|██        | 45/225 [00:04<00:13, 12.88it/s]"
     ]
    },
    {
     "name": "stdout",
     "output_type": "stream",
     "text": [
      "D:\\ML\\Attention-focus-detection-daniyar\\data\\1\\st104_1.jpg\n",
      "st104_1.jpg\n",
      "D:\\ML\\Attention-focus-detection-daniyar\\data\\1\\st105_1.jpg\n",
      "D:\\ML\\Attention-focus-detection-daniyar\\data\\1\\st106_1.jpg\n",
      "st106_1.jpg\n",
      "D:\\ML\\Attention-focus-detection-daniyar\\data\\1\\st107_1.jpg\n"
     ]
    },
    {
     "name": "stderr",
     "output_type": "stream",
     "text": [
      " 22%|██▏       | 49/225 [00:04<00:11, 15.36it/s]"
     ]
    },
    {
     "name": "stdout",
     "output_type": "stream",
     "text": [
      "D:\\ML\\Attention-focus-detection-daniyar\\data\\1\\st108_1.jpg\n",
      "st108_1.jpg\n",
      "D:\\ML\\Attention-focus-detection-daniyar\\data\\1\\st109_1.jpg\n",
      "D:\\ML\\Attention-focus-detection-daniyar\\data\\1\\st110_1.jpg\n",
      "D:\\ML\\Attention-focus-detection-daniyar\\data\\1\\st111_1.jpg\n"
     ]
    },
    {
     "name": "stderr",
     "output_type": "stream",
     "text": [
      " 24%|██▍       | 55/225 [00:04<00:11, 14.33it/s]"
     ]
    },
    {
     "name": "stdout",
     "output_type": "stream",
     "text": [
      "D:\\ML\\Attention-focus-detection-daniyar\\data\\1\\st112_1.jpg\n",
      "st112_1.jpg\n",
      "D:\\ML\\Attention-focus-detection-daniyar\\data\\1\\st113_1.jpg\n",
      "D:\\ML\\Attention-focus-detection-daniyar\\data\\1\\st114_1.jpg\n",
      "st114_1.jpg\n",
      "D:\\ML\\Attention-focus-detection-daniyar\\data\\1\\st115_1.jpg\n",
      "D:\\ML\\Attention-focus-detection-daniyar\\data\\1\\st116_1.jpg\n",
      "st116_1.jpg\n",
      "D:\\ML\\Attention-focus-detection-daniyar\\data\\1\\st117_1.jpg\n"
     ]
    },
    {
     "name": "stderr",
     "output_type": "stream",
     "text": [
      " 25%|██▌       | 57/225 [00:04<00:10, 15.28it/s]"
     ]
    },
    {
     "name": "stdout",
     "output_type": "stream",
     "text": [
      "D:\\ML\\Attention-focus-detection-daniyar\\data\\1\\st118_1.jpg\n"
     ]
    },
    {
     "name": "stderr",
     "output_type": "stream",
     "text": [
      " 28%|██▊       | 62/225 [00:05<00:11, 13.64it/s]"
     ]
    },
    {
     "name": "stdout",
     "output_type": "stream",
     "text": [
      "D:\\ML\\Attention-focus-detection-daniyar\\data\\1\\st119_1.jpg\n",
      "st119_1.jpg\n",
      "D:\\ML\\Attention-focus-detection-daniyar\\data\\1\\st120_1.jpg\n",
      "st120_1.jpg\n",
      "D:\\ML\\Attention-focus-detection-daniyar\\data\\1\\st121_1.jpg\n",
      "D:\\ML\\Attention-focus-detection-daniyar\\data\\1\\st122_1.jpg\n"
     ]
    },
    {
     "name": "stderr",
     "output_type": "stream",
     "text": [
      " 29%|██▉       | 65/225 [00:05<00:10, 14.83it/s]"
     ]
    },
    {
     "name": "stdout",
     "output_type": "stream",
     "text": [
      "D:\\ML\\Attention-focus-detection-daniyar\\data\\1\\st122_2.jpg\n",
      "D:\\ML\\Attention-focus-detection-daniyar\\data\\1\\st123_1.jpg\n",
      "st123_1.jpg\n",
      "D:\\ML\\Attention-focus-detection-daniyar\\data\\1\\st124_1.jpg\n",
      "D:\\ML\\Attention-focus-detection-daniyar\\data\\1\\st124_2.jpg\n"
     ]
    },
    {
     "name": "stderr",
     "output_type": "stream",
     "text": [
      " 30%|██▉       | 67/225 [00:05<00:12, 12.49it/s]"
     ]
    },
    {
     "name": "stdout",
     "output_type": "stream",
     "text": [
      "D:\\ML\\Attention-focus-detection-daniyar\\data\\1\\st125_1.jpg\n",
      "st125_1.jpg\n",
      "D:\\ML\\Attention-focus-detection-daniyar\\data\\1\\st125_2.jpg\n",
      "st125_2.jpg\n",
      "D:\\ML\\Attention-focus-detection-daniyar\\data\\1\\st126_1.jpg\n",
      "D:\\ML\\Attention-focus-detection-daniyar\\data\\1\\st127_1.jpg\n",
      "st127_1.jpg\n",
      "D:\\ML\\Attention-focus-detection-daniyar\\data\\1\\st128_1.jpg\n"
     ]
    },
    {
     "name": "stderr",
     "output_type": "stream",
     "text": [
      " 32%|███▏      | 73/225 [00:06<00:10, 14.71it/s]"
     ]
    },
    {
     "name": "stdout",
     "output_type": "stream",
     "text": [
      "D:\\ML\\Attention-focus-detection-daniyar\\data\\1\\st129_1.jpg\n",
      "D:\\ML\\Attention-focus-detection-daniyar\\data\\1\\st130_1.jpg\n",
      "D:\\ML\\Attention-focus-detection-daniyar\\data\\1\\st131_1.jpg\n",
      "st131_1.jpg\n",
      "D:\\ML\\Attention-focus-detection-daniyar\\data\\1\\st132_1.jpg\n"
     ]
    },
    {
     "name": "stderr",
     "output_type": "stream",
     "text": [
      " 34%|███▍      | 77/225 [00:06<00:12, 11.65it/s]"
     ]
    },
    {
     "name": "stdout",
     "output_type": "stream",
     "text": [
      "D:\\ML\\Attention-focus-detection-daniyar\\data\\1\\st133_1.jpg\n",
      "D:\\ML\\Attention-focus-detection-daniyar\\data\\1\\st133_3.jpg\n",
      "D:\\ML\\Attention-focus-detection-daniyar\\data\\1\\st134_1.jpg\n"
     ]
    },
    {
     "name": "stderr",
     "output_type": "stream",
     "text": [
      " 35%|███▌      | 79/225 [00:06<00:13, 11.13it/s]"
     ]
    },
    {
     "name": "stdout",
     "output_type": "stream",
     "text": [
      "st134_1.jpg\n",
      "D:\\ML\\Attention-focus-detection-daniyar\\data\\1\\st136_1.jpg\n",
      "D:\\ML\\Attention-focus-detection-daniyar\\data\\1\\st138_1.jpg\n",
      "st138_1.jpg\n",
      "D:\\ML\\Attention-focus-detection-daniyar\\data\\1\\st139_1.jpg\n",
      "D:\\ML\\Attention-focus-detection-daniyar\\data\\1\\st139_2.jpg\n",
      "st139_2.jpg\n",
      "D:\\ML\\Attention-focus-detection-daniyar\\data\\1\\st13_1.jpg\n"
     ]
    },
    {
     "name": "stderr",
     "output_type": "stream",
     "text": [
      " 38%|███▊      | 85/225 [00:07<00:12, 11.66it/s]"
     ]
    },
    {
     "name": "stdout",
     "output_type": "stream",
     "text": [
      "D:\\ML\\Attention-focus-detection-daniyar\\data\\1\\st13_2.jpg\n",
      "D:\\ML\\Attention-focus-detection-daniyar\\data\\1\\st13_3.jpg\n",
      "D:\\ML\\Attention-focus-detection-daniyar\\data\\1\\st13_4.jpg\n",
      "D:\\ML\\Attention-focus-detection-daniyar\\data\\1\\st13_5.jpg\n"
     ]
    },
    {
     "name": "stderr",
     "output_type": "stream",
     "text": [
      " 40%|████      | 91/225 [00:07<00:10, 12.75it/s]"
     ]
    },
    {
     "name": "stdout",
     "output_type": "stream",
     "text": [
      "D:\\ML\\Attention-focus-detection-daniyar\\data\\1\\st140_1.jpg\n",
      "st140_1.jpg\n",
      "D:\\ML\\Attention-focus-detection-daniyar\\data\\1\\st140_2.jpg\n",
      "D:\\ML\\Attention-focus-detection-daniyar\\data\\1\\st141_1.jpg\n",
      "st141_1.jpg\n",
      "D:\\ML\\Attention-focus-detection-daniyar\\data\\1\\st142_1.jpg\n"
     ]
    },
    {
     "name": "stderr",
     "output_type": "stream",
     "text": [
      " 41%|████▏     | 93/225 [00:07<00:10, 12.90it/s]"
     ]
    },
    {
     "name": "stdout",
     "output_type": "stream",
     "text": [
      "D:\\ML\\Attention-focus-detection-daniyar\\data\\1\\st143_1.jpg\n",
      "D:\\ML\\Attention-focus-detection-daniyar\\data\\1\\st144_3.jpg\n",
      "D:\\ML\\Attention-focus-detection-daniyar\\data\\1\\st144_5.jpg\n"
     ]
    },
    {
     "name": "stderr",
     "output_type": "stream",
     "text": [
      " 42%|████▏     | 95/225 [00:08<00:12, 10.21it/s]"
     ]
    },
    {
     "name": "stdout",
     "output_type": "stream",
     "text": [
      "D:\\ML\\Attention-focus-detection-daniyar\\data\\1\\st145_1.jpg\n",
      "D:\\ML\\Attention-focus-detection-daniyar\\data\\1\\st146_1.jpg\n",
      "D:\\ML\\Attention-focus-detection-daniyar\\data\\1\\st146_2.jpg\n"
     ]
    },
    {
     "name": "stderr",
     "output_type": "stream",
     "text": [
      " 43%|████▎     | 97/225 [00:08<00:11, 10.86it/s]"
     ]
    },
    {
     "name": "stdout",
     "output_type": "stream",
     "text": [
      "D:\\ML\\Attention-focus-detection-daniyar\\data\\1\\st146_3.jpg\n",
      "D:\\ML\\Attention-focus-detection-daniyar\\data\\1\\st147_1.jpg\n"
     ]
    },
    {
     "name": "stderr",
     "output_type": "stream",
     "text": [
      " 45%|████▍     | 101/225 [00:08<00:13,  9.39it/s]"
     ]
    },
    {
     "name": "stdout",
     "output_type": "stream",
     "text": [
      "D:\\ML\\Attention-focus-detection-daniyar\\data\\1\\st148_1.jpg\n",
      "D:\\ML\\Attention-focus-detection-daniyar\\data\\1\\st149_1.jpg\n",
      "D:\\ML\\Attention-focus-detection-daniyar\\data\\1\\st14_1.jpg\n",
      "st14_1.jpg\n",
      "D:\\ML\\Attention-focus-detection-daniyar\\data\\1\\st150_1.jpg\n"
     ]
    },
    {
     "name": "stderr",
     "output_type": "stream",
     "text": [
      " 46%|████▌     | 103/225 [00:08<00:11, 10.91it/s]"
     ]
    },
    {
     "name": "stdout",
     "output_type": "stream",
     "text": [
      "D:\\ML\\Attention-focus-detection-daniyar\\data\\1\\st150_2.jpg\n"
     ]
    },
    {
     "name": "stderr",
     "output_type": "stream",
     "text": [
      " 47%|████▋     | 105/225 [00:09<00:12,  9.82it/s]"
     ]
    },
    {
     "name": "stdout",
     "output_type": "stream",
     "text": [
      "D:\\ML\\Attention-focus-detection-daniyar\\data\\1\\st151_1.jpg\n",
      "st151_1.jpg\n",
      "D:\\ML\\Attention-focus-detection-daniyar\\data\\1\\st152_1.jpg\n",
      "D:\\ML\\Attention-focus-detection-daniyar\\data\\1\\st153_1.jpg\n"
     ]
    },
    {
     "name": "stderr",
     "output_type": "stream",
     "text": [
      " 48%|████▊     | 109/225 [00:09<00:10, 11.50it/s]"
     ]
    },
    {
     "name": "stdout",
     "output_type": "stream",
     "text": [
      "D:\\ML\\Attention-focus-detection-daniyar\\data\\1\\st154_1.jpg\n",
      "st154_1.jpg\n",
      "D:\\ML\\Attention-focus-detection-daniyar\\data\\1\\st155_1.jpg\n",
      "D:\\ML\\Attention-focus-detection-daniyar\\data\\1\\st156_1.jpg\n",
      "st156_1.jpg\n",
      "D:\\ML\\Attention-focus-detection-daniyar\\data\\1\\st157_1.jpg\n",
      "D:\\ML\\Attention-focus-detection-daniyar\\data\\1\\st158_1.jpg\n"
     ]
    },
    {
     "name": "stderr",
     "output_type": "stream",
     "text": [
      " 51%|█████     | 114/225 [00:10<00:10, 10.90it/s]"
     ]
    },
    {
     "name": "stdout",
     "output_type": "stream",
     "text": [
      "D:\\ML\\Attention-focus-detection-daniyar\\data\\1\\st16_1.jpg\n",
      "D:\\ML\\Attention-focus-detection-daniyar\\data\\1\\st16_2.jpg\n",
      "D:\\ML\\Attention-focus-detection-daniyar\\data\\1\\st16_3.jpg\n",
      "st16_3.jpg\n",
      "D:\\ML\\Attention-focus-detection-daniyar\\data\\1\\st18_2.jpg\n"
     ]
    },
    {
     "name": "stderr",
     "output_type": "stream",
     "text": [
      " 52%|█████▏    | 118/225 [00:10<00:07, 13.94it/s]"
     ]
    },
    {
     "name": "stdout",
     "output_type": "stream",
     "text": [
      "D:\\ML\\Attention-focus-detection-daniyar\\data\\1\\st19_11.jpg\n",
      "st19_11.jpg\n",
      "D:\\ML\\Attention-focus-detection-daniyar\\data\\1\\st19_6.jpg\n",
      "D:\\ML\\Attention-focus-detection-daniyar\\data\\1\\st1_12.jpg\n"
     ]
    },
    {
     "name": "stderr",
     "output_type": "stream",
     "text": [
      " 55%|█████▍    | 123/225 [00:10<00:07, 13.24it/s]"
     ]
    },
    {
     "name": "stdout",
     "output_type": "stream",
     "text": [
      "D:\\ML\\Attention-focus-detection-daniyar\\data\\1\\st20_4.jpg\n",
      "st20_4.jpg\n",
      "D:\\ML\\Attention-focus-detection-daniyar\\data\\1\\st22_2.jpg\n",
      "D:\\ML\\Attention-focus-detection-daniyar\\data\\1\\st22_3.jpg\n",
      "st22_3.jpg\n",
      "D:\\ML\\Attention-focus-detection-daniyar\\data\\1\\st22_4.jpg\n",
      "D:\\ML\\Attention-focus-detection-daniyar\\data\\1\\st23_1.jpg\n",
      "D:\\ML\\Attention-focus-detection-daniyar\\data\\1\\st24_1.jpg\n"
     ]
    },
    {
     "name": "stderr",
     "output_type": "stream",
     "text": [
      " 56%|█████▋    | 127/225 [00:11<00:09, 10.49it/s]"
     ]
    },
    {
     "name": "stdout",
     "output_type": "stream",
     "text": [
      "D:\\ML\\Attention-focus-detection-daniyar\\data\\1\\st24_3.jpg\n",
      "D:\\ML\\Attention-focus-detection-daniyar\\data\\1\\st25_5.jpg\n",
      "D:\\ML\\Attention-focus-detection-daniyar\\data\\1\\st26_1.jpg\n",
      "st26_1.jpg\n",
      "D:\\ML\\Attention-focus-detection-daniyar\\data\\1\\st27_1.jpg\n"
     ]
    },
    {
     "name": "stderr",
     "output_type": "stream",
     "text": [
      " 58%|█████▊    | 130/225 [00:11<00:07, 12.13it/s]"
     ]
    },
    {
     "name": "stdout",
     "output_type": "stream",
     "text": [
      "D:\\ML\\Attention-focus-detection-daniyar\\data\\1\\st27_2.jpg\n",
      "D:\\ML\\Attention-focus-detection-daniyar\\data\\1\\st27_3.jpg\n",
      "st27_3.jpg\n",
      "D:\\ML\\Attention-focus-detection-daniyar\\data\\1\\st2_1.jpg\n"
     ]
    },
    {
     "name": "stderr",
     "output_type": "stream",
     "text": [
      " 60%|█████▉    | 134/225 [00:11<00:07, 12.21it/s]"
     ]
    },
    {
     "name": "stdout",
     "output_type": "stream",
     "text": [
      "D:\\ML\\Attention-focus-detection-daniyar\\data\\1\\st2_10.jpg\n",
      "st2_10.jpg\n",
      "D:\\ML\\Attention-focus-detection-daniyar\\data\\1\\st2_11.jpg\n",
      "D:\\ML\\Attention-focus-detection-daniyar\\data\\1\\st2_12.jpg\n",
      "D:\\ML\\Attention-focus-detection-daniyar\\data\\1\\st2_13.jpg\n"
     ]
    },
    {
     "name": "stderr",
     "output_type": "stream",
     "text": [
      " 61%|██████▏   | 138/225 [00:11<00:06, 13.58it/s]"
     ]
    },
    {
     "name": "stdout",
     "output_type": "stream",
     "text": [
      "D:\\ML\\Attention-focus-detection-daniyar\\data\\1\\st2_14.jpg\n",
      "st2_14.jpg\n",
      "D:\\ML\\Attention-focus-detection-daniyar\\data\\1\\st2_15.jpg\n",
      "D:\\ML\\Attention-focus-detection-daniyar\\data\\1\\st2_2.jpg\n",
      "st2_2.jpg\n",
      "D:\\ML\\Attention-focus-detection-daniyar\\data\\1\\st2_3.jpg\n"
     ]
    },
    {
     "name": "stderr",
     "output_type": "stream",
     "text": [
      " 64%|██████▎   | 143/225 [00:12<00:06, 13.51it/s]"
     ]
    },
    {
     "name": "stdout",
     "output_type": "stream",
     "text": [
      "D:\\ML\\Attention-focus-detection-daniyar\\data\\1\\st2_4.jpg\n",
      "D:\\ML\\Attention-focus-detection-daniyar\\data\\1\\st2_5.jpg\n",
      "st2_5.jpg\n",
      "D:\\ML\\Attention-focus-detection-daniyar\\data\\1\\st2_6.jpg\n",
      "D:\\ML\\Attention-focus-detection-daniyar\\data\\1\\st2_7.jpg\n",
      "st2_7.jpg\n",
      "D:\\ML\\Attention-focus-detection-daniyar\\data\\1\\st2_8.jpg\n",
      "D:\\ML\\Attention-focus-detection-daniyar\\data\\1\\st2_9.jpg\n",
      "st2_9.jpg\n",
      "D:\\ML\\Attention-focus-detection-daniyar\\data\\1\\st30_1.jpg\n"
     ]
    },
    {
     "name": "stderr",
     "output_type": "stream",
     "text": [
      " 66%|██████▌   | 149/225 [00:12<00:05, 12.92it/s]"
     ]
    },
    {
     "name": "stdout",
     "output_type": "stream",
     "text": [
      "D:\\ML\\Attention-focus-detection-daniyar\\data\\1\\st30_2.jpg\n",
      "D:\\ML\\Attention-focus-detection-daniyar\\data\\1\\st31_1.jpg\n",
      "D:\\ML\\Attention-focus-detection-daniyar\\data\\1\\st34_10.jpg\n",
      "st34_10.jpg\n",
      "D:\\ML\\Attention-focus-detection-daniyar\\data\\1\\st34_11.jpg\n"
     ]
    },
    {
     "name": "stderr",
     "output_type": "stream",
     "text": [
      " 68%|██████▊   | 153/225 [00:12<00:04, 15.72it/s]"
     ]
    },
    {
     "name": "stdout",
     "output_type": "stream",
     "text": [
      "D:\\ML\\Attention-focus-detection-daniyar\\data\\1\\st34_9.jpg\n",
      "st34_9.jpg\n",
      "D:\\ML\\Attention-focus-detection-daniyar\\data\\1\\st35_1.jpg\n",
      "D:\\ML\\Attention-focus-detection-daniyar\\data\\1\\st3_1.jpg\n",
      "st3_1.jpg\n",
      "D:\\ML\\Attention-focus-detection-daniyar\\data\\1\\st3_2.jpg\n"
     ]
    },
    {
     "name": "stderr",
     "output_type": "stream",
     "text": [
      " 70%|██████▉   | 157/225 [00:13<00:05, 12.60it/s]"
     ]
    },
    {
     "name": "stdout",
     "output_type": "stream",
     "text": [
      "D:\\ML\\Attention-focus-detection-daniyar\\data\\1\\st43_10.jpg\n",
      "D:\\ML\\Attention-focus-detection-daniyar\\data\\1\\st43_8.jpg\n",
      "D:\\ML\\Attention-focus-detection-daniyar\\data\\1\\st48_2.jpg\n"
     ]
    },
    {
     "name": "stderr",
     "output_type": "stream",
     "text": [
      " 71%|███████   | 160/225 [00:13<00:04, 14.04it/s]"
     ]
    },
    {
     "name": "stdout",
     "output_type": "stream",
     "text": [
      "D:\\ML\\Attention-focus-detection-daniyar\\data\\1\\st49_2.jpg\n",
      "st49_2.jpg\n",
      "D:\\ML\\Attention-focus-detection-daniyar\\data\\1\\st49_4.jpg\n",
      "D:\\ML\\Attention-focus-detection-daniyar\\data\\1\\st49_6.jpg\n",
      "st49_6.jpg\n",
      "D:\\ML\\Attention-focus-detection-daniyar\\data\\1\\st4_15.jpg\n"
     ]
    },
    {
     "name": "stderr",
     "output_type": "stream",
     "text": [
      " 73%|███████▎  | 164/225 [00:13<00:04, 12.20it/s]"
     ]
    },
    {
     "name": "stdout",
     "output_type": "stream",
     "text": [
      "D:\\ML\\Attention-focus-detection-daniyar\\data\\1\\st4_18.jpg\n",
      "D:\\ML\\Attention-focus-detection-daniyar\\data\\1\\st4_22.jpg\n",
      "D:\\ML\\Attention-focus-detection-daniyar\\data\\1\\st4_28.jpg\n",
      "D:\\ML\\Attention-focus-detection-daniyar\\data\\1\\st50_1.jpg\n"
     ]
    },
    {
     "name": "stderr",
     "output_type": "stream",
     "text": [
      " 75%|███████▍  | 168/225 [00:14<00:05, 10.44it/s]"
     ]
    },
    {
     "name": "stdout",
     "output_type": "stream",
     "text": [
      "D:\\ML\\Attention-focus-detection-daniyar\\data\\1\\st50_3.jpg\n",
      "D:\\ML\\Attention-focus-detection-daniyar\\data\\1\\st57_1.jpg\n",
      "D:\\ML\\Attention-focus-detection-daniyar\\data\\1\\st57_2.jpg\n",
      "st57_2.jpg\n",
      "D:\\ML\\Attention-focus-detection-daniyar\\data\\1\\st58_1.jpg\n"
     ]
    },
    {
     "name": "stderr",
     "output_type": "stream",
     "text": [
      " 76%|███████▋  | 172/225 [00:14<00:03, 13.93it/s]"
     ]
    },
    {
     "name": "stdout",
     "output_type": "stream",
     "text": [
      "D:\\ML\\Attention-focus-detection-daniyar\\data\\1\\st58_2.jpg\n",
      "st58_2.jpg\n",
      "D:\\ML\\Attention-focus-detection-daniyar\\data\\1\\st58_4.jpg\n",
      "D:\\ML\\Attention-focus-detection-daniyar\\data\\1\\st58_6.jpg\n",
      "st58_6.jpg\n",
      "D:\\ML\\Attention-focus-detection-daniyar\\data\\1\\st59_1.jpg\n"
     ]
    },
    {
     "name": "stderr",
     "output_type": "stream",
     "text": [
      " 78%|███████▊  | 176/225 [00:14<00:03, 12.45it/s]"
     ]
    },
    {
     "name": "stdout",
     "output_type": "stream",
     "text": [
      "D:\\ML\\Attention-focus-detection-daniyar\\data\\1\\st5_9.jpg\n",
      "D:\\ML\\Attention-focus-detection-daniyar\\data\\1\\st60_1.jpg\n",
      "D:\\ML\\Attention-focus-detection-daniyar\\data\\1\\st61_1.jpg\n"
     ]
    },
    {
     "name": "stderr",
     "output_type": "stream",
     "text": [
      " 80%|████████  | 180/225 [00:15<00:03, 14.34it/s]"
     ]
    },
    {
     "name": "stdout",
     "output_type": "stream",
     "text": [
      "D:\\ML\\Attention-focus-detection-daniyar\\data\\1\\st61_2.jpg\n",
      "st61_2.jpg\n",
      "D:\\ML\\Attention-focus-detection-daniyar\\data\\1\\st63_1.jpg\n",
      "D:\\ML\\Attention-focus-detection-daniyar\\data\\1\\st65_1.jpg\n",
      "st65_1.jpg\n",
      "D:\\ML\\Attention-focus-detection-daniyar\\data\\1\\st65_2.jpg\n"
     ]
    },
    {
     "name": "stderr",
     "output_type": "stream",
     "text": [
      " 81%|████████  | 182/225 [00:15<00:03, 10.82it/s]"
     ]
    },
    {
     "name": "stdout",
     "output_type": "stream",
     "text": [
      "D:\\ML\\Attention-focus-detection-daniyar\\data\\1\\st66_1.jpg\n",
      "D:\\ML\\Attention-focus-detection-daniyar\\data\\1\\st66_2.jpg\n",
      "D:\\ML\\Attention-focus-detection-daniyar\\data\\1\\st67_1.jpg\n"
     ]
    },
    {
     "name": "stderr",
     "output_type": "stream",
     "text": [
      " 82%|████████▏ | 184/225 [00:15<00:03, 11.32it/s]"
     ]
    },
    {
     "name": "stdout",
     "output_type": "stream",
     "text": [
      "D:\\ML\\Attention-focus-detection-daniyar\\data\\1\\st68_1.jpg\n",
      "st68_1.jpg\n",
      "D:\\ML\\Attention-focus-detection-daniyar\\data\\1\\st69_1.jpg\n"
     ]
    },
    {
     "name": "stderr",
     "output_type": "stream",
     "text": [
      " 84%|████████▎ | 188/225 [00:16<00:03, 11.17it/s]"
     ]
    },
    {
     "name": "stdout",
     "output_type": "stream",
     "text": [
      "D:\\ML\\Attention-focus-detection-daniyar\\data\\1\\st6_1.jpg\n",
      "st6_1.jpg\n",
      "D:\\ML\\Attention-focus-detection-daniyar\\data\\1\\st70_1.jpg\n",
      "D:\\ML\\Attention-focus-detection-daniyar\\data\\1\\st70_2.jpg\n"
     ]
    },
    {
     "name": "stderr",
     "output_type": "stream",
     "text": [
      " 84%|████████▍ | 190/225 [00:16<00:03, 11.09it/s]"
     ]
    },
    {
     "name": "stdout",
     "output_type": "stream",
     "text": [
      "D:\\ML\\Attention-focus-detection-daniyar\\data\\1\\st71_1.jpg\n",
      "D:\\ML\\Attention-focus-detection-daniyar\\data\\1\\st72_1.jpg\n",
      "D:\\ML\\Attention-focus-detection-daniyar\\data\\1\\st73_1.jpg\n",
      "st73_1.jpg\n",
      "D:\\ML\\Attention-focus-detection-daniyar\\data\\1\\st74_1.jpg\n"
     ]
    },
    {
     "name": "stderr",
     "output_type": "stream",
     "text": [
      " 87%|████████▋ | 195/225 [00:16<00:02, 10.95it/s]"
     ]
    },
    {
     "name": "stdout",
     "output_type": "stream",
     "text": [
      "D:\\ML\\Attention-focus-detection-daniyar\\data\\1\\st75_1.jpg\n",
      "st75_1.jpg\n",
      "D:\\ML\\Attention-focus-detection-daniyar\\data\\1\\st76_1.jpg\n",
      "D:\\ML\\Attention-focus-detection-daniyar\\data\\1\\st77_1.jpg\n",
      "st77_1.jpg\n",
      "D:\\ML\\Attention-focus-detection-daniyar\\data\\1\\st78_1.jpg\n"
     ]
    },
    {
     "name": "stderr",
     "output_type": "stream",
     "text": [
      " 89%|████████▉ | 200/225 [00:17<00:01, 13.35it/s]"
     ]
    },
    {
     "name": "stdout",
     "output_type": "stream",
     "text": [
      "D:\\ML\\Attention-focus-detection-daniyar\\data\\1\\st79_1.jpg\n",
      "st79_1.jpg\n",
      "D:\\ML\\Attention-focus-detection-daniyar\\data\\1\\st80_1.jpg\n",
      "D:\\ML\\Attention-focus-detection-daniyar\\data\\1\\st80_2.jpg\n",
      "D:\\ML\\Attention-focus-detection-daniyar\\data\\1\\st81_1.jpg\n"
     ]
    },
    {
     "name": "stderr",
     "output_type": "stream",
     "text": [
      " 90%|████████▉ | 202/225 [00:17<00:02, 10.21it/s]"
     ]
    },
    {
     "name": "stdout",
     "output_type": "stream",
     "text": [
      "D:\\ML\\Attention-focus-detection-daniyar\\data\\1\\st82_1.jpg\n",
      "D:\\ML\\Attention-focus-detection-daniyar\\data\\1\\st83_1.jpg\n",
      "D:\\ML\\Attention-focus-detection-daniyar\\data\\1\\st84_1.jpg\n",
      "st84_1.jpg\n"
     ]
    },
    {
     "name": "stderr",
     "output_type": "stream",
     "text": [
      " 92%|█████████▏| 206/225 [00:17<00:01, 13.17it/s]"
     ]
    },
    {
     "name": "stdout",
     "output_type": "stream",
     "text": [
      "D:\\ML\\Attention-focus-detection-daniyar\\data\\1\\st85_1.jpg\n",
      "st85_1.jpg\n",
      "D:\\ML\\Attention-focus-detection-daniyar\\data\\1\\st86_1.jpg\n",
      "D:\\ML\\Attention-focus-detection-daniyar\\data\\1\\st87_1.jpg\n",
      "st87_1.jpg\n",
      "D:\\ML\\Attention-focus-detection-daniyar\\data\\1\\st88_1.jpg\n"
     ]
    },
    {
     "name": "stderr",
     "output_type": "stream",
     "text": [
      " 94%|█████████▍| 211/225 [00:17<00:00, 14.49it/s]"
     ]
    },
    {
     "name": "stdout",
     "output_type": "stream",
     "text": [
      "D:\\ML\\Attention-focus-detection-daniyar\\data\\1\\st88_2.jpg\n",
      "st88_2.jpg\n",
      "D:\\ML\\Attention-focus-detection-daniyar\\data\\1\\st88_3.jpg\n",
      "D:\\ML\\Attention-focus-detection-daniyar\\data\\1\\st89_1.jpg\n",
      "st89_1.jpg\n",
      "D:\\ML\\Attention-focus-detection-daniyar\\data\\1\\st90_1.jpg\n",
      "D:\\ML\\Attention-focus-detection-daniyar\\data\\1\\st91_1.jpg\n",
      "st91_1.jpg\n",
      "D:\\ML\\Attention-focus-detection-daniyar\\data\\1\\st91_2.jpg\n"
     ]
    },
    {
     "name": "stderr",
     "output_type": "stream",
     "text": [
      " 95%|█████████▌| 214/225 [00:18<00:00, 14.73it/s]"
     ]
    },
    {
     "name": "stdout",
     "output_type": "stream",
     "text": [
      "D:\\ML\\Attention-focus-detection-daniyar\\data\\1\\st91_3.jpg\n",
      "D:\\ML\\Attention-focus-detection-daniyar\\data\\1\\st92_1.jpg\n"
     ]
    },
    {
     "name": "stderr",
     "output_type": "stream",
     "text": [
      " 97%|█████████▋| 218/225 [00:18<00:00, 12.15it/s]"
     ]
    },
    {
     "name": "stdout",
     "output_type": "stream",
     "text": [
      "D:\\ML\\Attention-focus-detection-daniyar\\data\\1\\st93_1.jpg\n",
      "st93_1.jpg\n",
      "D:\\ML\\Attention-focus-detection-daniyar\\data\\1\\st93_2.jpg\n",
      "D:\\ML\\Attention-focus-detection-daniyar\\data\\1\\st94_1.jpg\n",
      "st94_1.jpg\n",
      "D:\\ML\\Attention-focus-detection-daniyar\\data\\1\\st94_2.jpg\n",
      "D:\\ML\\Attention-focus-detection-daniyar\\data\\1\\st95_1.jpg\n"
     ]
    },
    {
     "name": "stderr",
     "output_type": "stream",
     "text": [
      " 98%|█████████▊| 221/225 [00:18<00:00, 13.87it/s]"
     ]
    },
    {
     "name": "stdout",
     "output_type": "stream",
     "text": [
      "D:\\ML\\Attention-focus-detection-daniyar\\data\\1\\st96_1.jpg\n",
      "D:\\ML\\Attention-focus-detection-daniyar\\data\\1\\st97_1.jpg\n"
     ]
    },
    {
     "name": "stderr",
     "output_type": "stream",
     "text": [
      "100%|██████████| 225/225 [00:19<00:00, 11.72it/s]\n"
     ]
    },
    {
     "name": "stdout",
     "output_type": "stream",
     "text": [
      "D:\\ML\\Attention-focus-detection-daniyar\\data\\1\\st99_1.jpg\n",
      "D:\\ML\\Attention-focus-detection-daniyar\\data\\1\\studenty-na-lekczii-1-scaled_1.jpg\n"
     ]
    }
   ],
   "source": [
    "dataset_path = 'dataset.csv'\n",
    "\n",
    "for file in tqdm([f for f in os.listdir(path_1) if os.path.isfile(os.path.join(path_1,f))]):\n",
    "    print(path_1 + file)\n",
    "    image = cv2.imread(path_1 + file, 1)\n",
    "\n",
    "    image.flags.writeable = False\n",
    "    image.flags.writeable = True\n",
    "\n",
    "    results = face_mesh.process(image)\n",
    "    \n",
    "\n",
    "    if not results.multi_face_landmarks:\n",
    "        print(file)\n",
    "        continue\n",
    "\n",
    "    annotated_image = image.copy()\n",
    "    try:\n",
    "        for face_landmarks in results.multi_face_landmarks:\n",
    "\n",
    "            lm_list = [file, 1]\n",
    "            #print('face_landmarks:', (face_landmarks))\n",
    "            #print(len(face_landmarks.landmark))\n",
    "            for lm in face_landmarks.landmark:\n",
    "                lm_list.append(lm.x)\n",
    "                lm_list.append(lm.y)\n",
    "                lm_list.append(lm.z)\n",
    "\n",
    "            df.loc[len(df)] = lm_list\n",
    "\n",
    "            #print(face_landmarks[0])\n",
    "            mp_drawing.draw_landmarks(\n",
    "            image=annotated_image,\n",
    "            landmark_list=face_landmarks,\n",
    "            connections=mp_face_mesh.FACEMESH_TESSELATION,\n",
    "            landmark_drawing_spec=None,\n",
    "            connection_drawing_spec=mp_drawing_styles\n",
    "            .get_default_face_mesh_tesselation_style())\n",
    "            \n",
    "            mp_drawing.draw_landmarks(\n",
    "                image=annotated_image,\n",
    "                landmark_list=face_landmarks,\n",
    "                connections=mp_face_mesh.FACEMESH_CONTOURS,\n",
    "                landmark_drawing_spec=None,\n",
    "                connection_drawing_spec=mp_drawing_styles\n",
    "                .get_default_face_mesh_contours_style())\n",
    "    except TypeError as exc:\n",
    "        print(exc)\n",
    "        \n",
    "    #cv2.imwrite(path_0 + '//mp//' + str(file) + '.png', annotated_image)\n",
    "df.to_csv('dataset.csv', sep=';')"
   ]
  }
 ],
 "metadata": {
  "kernelspec": {
   "display_name": "Python 3",
   "language": "python",
   "name": "python3"
  },
  "language_info": {
   "codemirror_mode": {
    "name": "ipython",
    "version": 3
   },
   "file_extension": ".py",
   "mimetype": "text/x-python",
   "name": "python",
   "nbconvert_exporter": "python",
   "pygments_lexer": "ipython3",
   "version": "3.11.6"
  }
 },
 "nbformat": 4,
 "nbformat_minor": 2
}
